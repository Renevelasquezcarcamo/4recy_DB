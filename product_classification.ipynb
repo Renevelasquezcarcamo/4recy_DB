{
 "cells": [
  {
   "cell_type": "code",
   "execution_count": 129,
   "metadata": {
    "collapsed": true,
    "pycharm": {
     "name": "#%%\n"
    }
   },
   "outputs": [
    {
     "name": "stderr",
     "output_type": "stream",
     "text": [
      "[nltk_data] Error loading punkt: <urlopen error [SSL:\n",
      "[nltk_data]     CERTIFICATE_VERIFY_FAILED] certificate verify failed:\n",
      "[nltk_data]     unable to get local issuer certificate (_ssl.c:997)>\n",
      "[nltk_data] Error loading stopwords: <urlopen error [SSL:\n",
      "[nltk_data]     CERTIFICATE_VERIFY_FAILED] certificate verify failed:\n",
      "[nltk_data]     unable to get local issuer certificate (_ssl.c:997)>\n"
     ]
    }
   ],
   "source": [
    "import pandas as pd\n",
    "import numpy as np\n",
    "from matplotlib import pyplot as plt\n",
    "%matplotlib inline\n",
    "\n",
    "from nltk.tokenize import word_tokenize\n",
    "\n",
    "#Download once if using NLTK for preprocessing\n",
    "import nltk\n",
    "nltk.download('punkt')\n",
    "nltk.download('stopwords')\n",
    "from nltk.corpus import stopwords\n",
    "\n",
    "stops = set(stopwords.words('spanish'))\n",
    "from spacy.lang.es.stop_words import STOP_WORDS\n",
    "stop = STOP_WORDS\n",
    "\n",
    "#Libraries for vectorisation\n",
    "from sklearn.feature_extraction.text import CountVectorizer, TfidfVectorizer\n",
    "from sklearn.decomposition import LatentDirichletAllocation\n",
    "\n",
    "\n",
    "#Libraries for clustering\n",
    "from sklearn.cluster import KMeans\n",
    "\n",
    "import spacy\n",
    "nlp = spacy.load(\"es_dep_news_trf\")\n",
    "\n",
    "import warnings\n",
    "warnings.filterwarnings('ignore')"
   ]
  },
  {
   "cell_type": "code",
   "execution_count": 130,
   "outputs": [],
   "source": [
    "#df = pd.read_csv('dataset_clean.csv').fillna('')\n",
    "#df = df[df['label'] == ''].drop(['cluster250', 'label'], axis=1)"
   ],
   "metadata": {
    "collapsed": false,
    "pycharm": {
     "name": "#%%\n"
    }
   }
  },
  {
   "cell_type": "code",
   "execution_count": 131,
   "outputs": [],
   "source": [
    "df = pd.read_excel('Productos con Data Extra.xlsx')\n",
    "\n",
    "\n",
    "#Limpiar el dataset\n",
    "columnas_interes = ['id_producto', 'nombre_marca', 'nombre_reciclaje', 'nombre_empresa', 'nombre_productos_clasificacion', 'nombre', 'gramos_envase', 'formato', 'unidad']\n",
    "df = df[columnas_interes]\n",
    "df['unidad']=df.formato.str.replace('(\\d*\\.\\d+|\\d+)',\"\")\n",
    "df['unidad'] = df['unidad'].str.replace('X', '')\n",
    "df['unidad'] = df['unidad'].str.replace('?', '')\n",
    "df['unidad'] = df['unidad'].replace('Kg', 'KG')\n",
    "df['unidad'] = df['unidad'].replace('G', 'GR')\n",
    "df['unidad'] = df['unidad'].replace('GRGR', 'GR')\n",
    "df['unidad'] = df['unidad'].replace('POTEGR', 'GR')\n",
    "df['unidad'] = df['unidad'].replace('LITRO', 'LT')\n",
    "df['unidad'] = df['unidad'].replace('LTLT', 'LT')\n",
    "df['unidad'] = df['unidad'].replace('L', 'LT')\n",
    "df['unidad'] = df['unidad'].replace('UNIDADES', 'UN')\n",
    "df['unidad'] = df['unidad'].replace('UNUNIDADES', 'UN')\n",
    "df['unidad'] = df['unidad'].replace('UNID', 'UN')\n",
    "df['unidad'] = df['unidad'].replace('UNUN', 'UN')\n",
    "df['unidad'] = df['unidad'].replace('MLML', 'ML')\n",
    "df['unidad'] = df['unidad'].replace('CCCC', 'CC')\n",
    "df['unidad_real'] = df['unidad']\n",
    "\n",
    "#Obtener el nombre de las marcas\n",
    "df['nombre_marca'] = df['nombre_marca'].astype(str)\n",
    "df['nombre_marca'] = df['nombre_marca'].apply(lambda x: ''.join([i for i in x if not i.isdigit()]))\n",
    "df['nombre_marca'] = df.nombre_marca.str.replace(\"[#,@,&,°,%,º,/,']\", '')\n",
    "df['nombre_marca'] = df['nombre_marca'].apply(lambda x: x.lower())\n",
    "marcas = df['nombre_marca'].unique().tolist()\n",
    "\n",
    "#Estandarizar el nombre de los productos\n",
    "df['nombre'] = df['nombre'].astype(str)\n",
    "df['nombre'] = df['nombre'].apply(lambda x: ''.join([i for i in x if not i.isdigit()]))\n",
    "df['nombre'] = df.nombre.str.replace('[#,@,&,°,%,º,/]', '')\n",
    "df['nombre'] = df['nombre'].replace('lí-quido', 'líquido')\n",
    "\n",
    "#Obtener el formato del producto\n",
    "df['cantidad']=df.formato.str.extract('(\\d*\\.\\d+|\\d+)', expand=False).astype(float)\n",
    "df['unidad']=df.formato.str.replace('(\\d*\\.\\d+|\\d+)',\"\")\n",
    "df['unidad'] = df['unidad'].str.replace('X', '')\n",
    "df['unidad'] = df['unidad'].str.replace('?', '')\n",
    "df['unidad'] = df['unidad'].replace('Kg', 'KG')\n",
    "df['unidad'] = df['unidad'].replace('G', 'GR')\n",
    "df['unidad'] = df['unidad'].replace('GRGR', 'GR')\n",
    "df['unidad'] = df['unidad'].replace('LITRO', 'LT')\n",
    "df['unidad'] = df['unidad'].replace('LTLT', 'LT')\n",
    "df['unidad'] = df['unidad'].replace('L', 'LT')\n",
    "df['unidad'] = df['unidad'].replace('UNIDADES', 'UN')\n",
    "df['unidad'] = df['unidad'].replace('UNUN', 'UN')\n",
    "df['unidad'] = df['unidad'].replace('MLML', 'ML')\n",
    "df['unidad'] = df['unidad'].replace('CCCC', 'CC')\n",
    "units = ['KG', 'LT', 'ML', 'GR', 'UN', 'CC']\n",
    "#df = df[df['unidad'].isin(units)]\n",
    "\n",
    "#Estandarización de elementos en base de datos\n",
    "df['nombre_productos_clasificacion'] = df['nombre_productos_clasificacion'].replace('SIN DEPARTAMENTO', np.nan)\n",
    "df['nombre_productos_clasificacion'] = df['nombre_productos_clasificacion'].replace('OTROS', np.nan)\n",
    "df['nombre_productos_clasificacion'] = df['nombre_productos_clasificacion'].replace('LICORES, CERVEZA S Y  VINOS', 'LICORES, CERVEZAS Y  VINOS')\n",
    "df['nombre_reciclaje'] = df['nombre_reciclaje'].replace('SIN SUB. CAT', np.nan)\n",
    "df['nombre_reciclaje'] = df['nombre_reciclaje'].replace('OTRO', np.nan)\n",
    "df['nombre_empresa'] = df['nombre_empresa'].replace('SIN ASIGNAR', np.nan)\n",
    "df['nombre_marca'] = df['nombre_marca'].replace('.', np.nan)"
   ],
   "metadata": {
    "collapsed": false,
    "pycharm": {
     "name": "#%%\n"
    }
   }
  },
  {
   "cell_type": "code",
   "execution_count": 132,
   "outputs": [],
   "source": [
    "def normalize(comment, lowercase, remove_stopwords):\n",
    "    if lowercase:\n",
    "        comment = comment.lower()\n",
    "    comment = nlp(comment)\n",
    "    lemmatized = list()\n",
    "    for word in comment:\n",
    "        if len(word)>2:\n",
    "            if not word.is_punct:\n",
    "                lemma = word.lemma_.strip()\n",
    "                if lemma:\n",
    "                    if not remove_stopwords or (remove_stopwords and lemma not in stops):\n",
    "                        lemmatized.append(lemma)\n",
    "    return \" \".join(lemmatized)\n",
    "\n",
    "df['texto'] = df['nombre'].apply(normalize, lowercase=True, remove_stopwords=True)"
   ],
   "metadata": {
    "collapsed": false,
    "pycharm": {
     "name": "#%%\n"
    }
   }
  },
  {
   "cell_type": "code",
   "execution_count": 133,
   "outputs": [],
   "source": [
    "def stem_sentence(sentence):\n",
    "    token_words = word_tokenize(sentence)\n",
    "    stem_sentence = [word for word in token_words]\n",
    "    return ' '.join(stem_sentence)"
   ],
   "metadata": {
    "collapsed": false,
    "pycharm": {
     "name": "#%%\n"
    }
   }
  },
  {
   "cell_type": "code",
   "execution_count": 134,
   "outputs": [],
   "source": [
    "colors = ['naranja','frutilla','chocolate','vainilla','limón', 'oliva', 'manzana', 'zero', 'pera', 'color', 'collection', 'collecion', 'extra', 'pack','oregano', 'li', 'lí', 'piña', 'fruta', 'frambuesa', 'mango', 'durazno', 'especial', 'sour', 'original', 'saborizante', 'lucuma', 'caramel', 'verde', 'berries', 'tipo', 'jengibre', 'recarga', 'pisos', 'virgen', 'light', 'nido', 'cabernet', 'sauvignon', 'rojo', 'loncoleche', 'blanco', 'mineral', 'semidescremado', 'precio', 'entero', 'cat', 'natural', 'litro']\n",
    "colors = colors + marcas"
   ],
   "metadata": {
    "collapsed": false,
    "pycharm": {
     "name": "#%%\n"
    }
   }
  },
  {
   "cell_type": "code",
   "execution_count": 135,
   "outputs": [],
   "source": [
    "def preprocess(df_to_preprocess):\n",
    "    text1 = df_to_preprocess['texto']\n",
    "    #Stem and make lower case\n",
    "    text3 = pd.Series([stem_sentence(x) for x in text1])\n",
    "    text4 = [' '.join([x for x in string.split() if x not in colors]) for string in text3]\n",
    "\n",
    "    #Bag of words\n",
    "    vectorizer_cv = CountVectorizer(analyzer='word')\n",
    "    X_cv = vectorizer_cv.fit_transform(text4)\n",
    "\n",
    "    #Show Matrix\n",
    "    #matrix = pd.concat([text1, pd.DataFrame(X_cv.toarray(), columns=vectorizer_cv.get_feature_names())], axis=1)\n",
    "    #matrix.head()\n",
    "\n",
    "    #TF-IDF (word level)\n",
    "    vectorizer_wtf = TfidfVectorizer(analyzer='word')\n",
    "    X_wtf = vectorizer_wtf.fit_transform(text4)\n",
    "\n",
    "    #TF-IDF (n-gram level)\n",
    "    vectorizer_ntf = TfidfVectorizer(analyzer='word',ngram_range=(1,2))\n",
    "    X_ntf = vectorizer_ntf.fit_transform(text4)\n",
    "\n",
    "    #LDA\n",
    "    total = 50\n",
    "    lda = LatentDirichletAllocation(n_components=total, learning_decay=0.9)\n",
    "    X_lda = lda.fit(X_cv)\n",
    "\n",
    "    return X_cv, X_wtf, X_ntf, X_lda, vectorizer_cv, vectorizer_wtf, vectorizer_ntf, text1\n",
    "\n",
    "X_cv, X_wtf, X_ntf, X_lda, vectorizer_cv, vectorizer_wtf, vectorizer_ntf, text1 = preprocess(df)"
   ],
   "metadata": {
    "collapsed": false,
    "pycharm": {
     "name": "#%%\n"
    }
   }
  },
  {
   "cell_type": "code",
   "execution_count": 136,
   "outputs": [],
   "source": [
    "def plot_top_words(model, feature_names, n_top_words, title):\n",
    "    fig, axes = plt.subplots(6, 5, figsize=(30, 30), sharex=True)\n",
    "    axes = axes.flatten()\n",
    "    for topic_idx, topic in enumerate(model.components_):\n",
    "        top_features_ind = topic.argsort()[:-n_top_words - 1:-1]\n",
    "        top_features = [feature_names[i] for i in top_features_ind]\n",
    "        weights = topic[top_features_ind]\n",
    "\n",
    "        ax = axes[topic_idx]\n",
    "        ax.barh(top_features, weights, height=0.7)\n",
    "        ax.set_title(f'Topic {topic_idx +1}',\n",
    "                     fontdict={'fontsize': 30})\n",
    "        ax.invert_yaxis()\n",
    "        ax.tick_params(axis='both', which='major', labelsize=20)\n",
    "        for i in 'top right left'.split():\n",
    "            ax.spines[i].set_visible(False)\n",
    "        fig.suptitle(title, fontsize=40)\n",
    "    plt.subplots_adjust(top=0.90, bottom=0.05, wspace=0.90, hspace=0.3)\n",
    "    plt.show()"
   ],
   "metadata": {
    "collapsed": false,
    "pycharm": {
     "name": "#%%\n"
    }
   }
  },
  {
   "cell_type": "code",
   "execution_count": 137,
   "outputs": [],
   "source": [
    "#Show topics\n",
    "#n_top_words = 5\n",
    "#feature_names = vectorizer_cv.get_feature_names()\n",
    "#plot_top_words(X_lda, feature_names, n_top_words, '')"
   ],
   "metadata": {
    "collapsed": false,
    "pycharm": {
     "name": "#%%\n"
    }
   }
  },
  {
   "cell_type": "code",
   "execution_count": 138,
   "outputs": [
    {
     "data": {
      "text/plain": "<Figure size 640x480 with 1 Axes>",
      "image/png": "[encoded data removed]"
     },
     "metadata": {},
     "output_type": "display_data"
    }
   ],
   "source": [
    "#Test increments of 100 clusters using elbow method\n",
    "sse={}\n",
    "for k in np.arange(100,1000,50):\n",
    "    kmeans = KMeans(n_clusters=k, max_iter=1500).fit(X_cv)\n",
    "    sse[k] = kmeans.inertia_\n",
    "plt.plot(list(sse.keys()),list(sse.values()), marker = 'o')\n",
    "plt.xlabel('Values for K')\n",
    "plt.ylabel('SSE')\n",
    "plt.show();"
   ],
   "metadata": {
    "collapsed": false,
    "pycharm": {
     "name": "#%%\n"
    }
   }
  },
  {
   "cell_type": "code",
   "execution_count": 205,
   "outputs": [],
   "source": [
    "def cluster_text(df_to_cluster, n_cluster):\n",
    "    X_cv, X_wtf, X_ntf, X_lda, vectorizer_cv, vectorizer_wtf, vectorizer_nt,text1 = preprocess(df_to_cluster)\n",
    "    kmeans_clust = KMeans(n_clusters = n_cluster)\n",
    "    cluster_name = 'cluster' + str(n_cluster)\n",
    "    label_name = 'label' + str(n_cluster)\n",
    "    kmeans_clust.fit(X_cv)\n",
    "    result = pd.concat([text1, pd.DataFrame(X_cv.toarray(), columns=vectorizer_cv.get_feature_names())],axis=1)\n",
    "    result = result[:]\n",
    "    result[cluster_name] = kmeans_clust.predict(X_cv)\n",
    "    clusters = result[cluster_name].unique()\n",
    "    labels = []\n",
    "    for i in range(len(clusters)):\n",
    "        subset = result[result[cluster_name] == clusters[i]]\n",
    "        words = ' '.join([x for x in np.where(subset.all()!=0,subset.columns,None) if x and x!='texto' and x!=cluster_name and len(x.split()) == 1])\n",
    "        labels.append(words)\n",
    "\n",
    "    result = result[['texto', cluster_name]]\n",
    "    result = result.drop_duplicates()\n",
    "    labels_table = pd.DataFrame(zip(clusters,labels),columns=[cluster_name, label_name])\n",
    "    df_final = pd.merge(df_to_cluster, result, on='texto', how='left')\n",
    "    df_final = pd.merge(df_final, labels_table, on=cluster_name, how='left')\n",
    "    df_final = df_final.drop_duplicates()\n",
    "    df_final[label_name] = df_final[label_name].str.title()\n",
    "    return df_final"
   ],
   "metadata": {
    "collapsed": false,
    "pycharm": {
     "name": "#%%\n"
    }
   }
  },
  {
   "cell_type": "code",
   "execution_count": 206,
   "outputs": [],
   "source": [
    "df = df[['id_producto','nombre_marca','nombre_reciclaje','nombre_empresa','nombre_productos_clasificacion','nombre','gramos_envase','formato','unidad','unidad_real','cantidad','texto']]"
   ],
   "metadata": {
    "collapsed": false,
    "pycharm": {
     "name": "#%%\n"
    }
   }
  },
  {
   "cell_type": "code",
   "execution_count": 207,
   "outputs": [
    {
     "data": {
      "text/plain": "      id_producto     nombre_marca nombre_reciclaje nombre_empresa  \\\n0            44.0        celebrite           VIDRIO      CELEBRITE   \n1            55.0          viñamar           VIDRIO            CCU   \n2           137.0          viñamar           VIDRIO            CCU   \n3          4839.0  alto del carmen           VIDRIO            NaN   \n4            14.0          mistral           VIDRIO            CCU   \n...           ...              ...              ...            ...   \n4993        872.0          prochef              NaN        PROCHEF   \n4994        873.0          prochef              NaN        PROCHEF   \n4995        874.0          prochef              NaN        PROCHEF   \n4996        738.0     olivodeplata              NaN   OLIVODEPLATA   \n4997        882.0        undurraga           VIDRIO            NaN   \n\n     nombre_productos_clasificacion  \\\n0        LICORES, CERVEZAS Y  VINOS   \n1        LICORES, CERVEZAS Y  VINOS   \n2        LICORES, CERVEZAS Y  VINOS   \n3        LICORES, CERVEZAS Y  VINOS   \n4        LICORES, CERVEZAS Y  VINOS   \n...                             ...   \n4993                            NaN   \n4994                            NaN   \n4995                            NaN   \n4996                            NaN   \n4997     LICORES, CERVEZAS Y  VINOS   \n\n                                         nombre  gramos_envase formato unidad  \\\n0            Espumante Celebrite Extra Brut  cc          800.0     NaN    NaN   \n1                           Viña Mar Extra Brut          800.0     NaN    NaN   \n2                     VINO ESPUMANTE EXTRA BRUT          800.0   750CC     CC   \n3        Pisco Alto del Carmen LT Alto Especial          800.0     NaN    NaN   \n4      PISCO  ESPECIAL AÑEJADO EN ROBLE BOTELLA          800.0   750CC     CC   \n...                                         ...            ...     ...    ...   \n4993             ACEITE AEROSOL COCO PROCHEF GR            1.0   225GR     GR   \n4994            ACEITE AEROSOL CANOL PROCHEF GR            1.0   400GR     GR   \n4995              SPRAY OLIVA LIGHT. PROCHEF GR            1.0   225GR     GR   \n4996  ACEITE OLIVA EXTRA VIRGEN OLIVODEPLATA LT            1.0     1LT     LT   \n4997                undurraga brut  ml - vidrio            1.0     NaN    NaN   \n\n     unidad_real  cantidad                                   texto  \\\n0            NaN       NaN          espumante celebrite extra brut   \n1            NaN       NaN                     viña mar extra brut   \n2             CC     750.0               vino espumante extra brut   \n3            NaN       NaN         pisco alto carmen alto especial   \n4             CC     750.0    pisco especial añejado roble botella   \n...          ...       ...                                     ...   \n4993          GR     225.0             aceite aerosol coco prochef   \n4994          GR     400.0            aceite aerosol canol prochef   \n4995          GR     225.0               spray oliva light prochef   \n4996          LT       1.0  aceite oliva extra virgen olivodeplata   \n4997         NaN       NaN                   undurraga brut vidrio   \n\n      cluster300        label300  \n0            114  Brut Espumante  \n1             43                  \n2            114  Brut Espumante  \n3            130           Pisco  \n4            130           Pisco  \n...          ...             ...  \n4993          12          Aceite  \n4994          12          Aceite  \n4995          43                  \n4996          12          Aceite  \n4997          43                  \n\n[4998 rows x 14 columns]",
      "text/html": "<div>\n<style scoped>\n    .dataframe tbody tr th:only-of-type {\n        vertical-align: middle;\n    }\n\n    .dataframe tbody tr th {\n        vertical-align: top;\n    }\n\n    .dataframe thead th {\n        text-align: right;\n    }\n</style>\n<table border=\"1\" class=\"dataframe\">\n  <thead>\n    <tr style=\"text-align: right;\">\n      <th></th>\n      <th>id_producto</th>\n      <th>nombre_marca</th>\n      <th>nombre_reciclaje</th>\n      <th>nombre_empresa</th>\n      <th>nombre_productos_clasificacion</th>\n      <th>nombre</th>\n      <th>gramos_envase</th>\n      <th>formato</th>\n      <th>unidad</th>\n      <th>unidad_real</th>\n      <th>cantidad</th>\n      <th>texto</th>\n      <th>cluster300</th>\n      <th>label300</th>\n    </tr>\n  </thead>\n  <tbody>\n    <tr>\n      <th>0</th>\n      <td>44.0</td>\n      <td>celebrite</td>\n      <td>VIDRIO</td>\n      <td>CELEBRITE</td>\n      <td>LICORES, CERVEZAS Y  VINOS</td>\n      <td>Espumante Celebrite Extra Brut  cc</td>\n      <td>800.0</td>\n      <td>NaN</td>\n      <td>NaN</td>\n      <td>NaN</td>\n      <td>NaN</td>\n      <td>espumante celebrite extra brut</td>\n      <td>114</td>\n      <td>Brut Espumante</td>\n    </tr>\n    <tr>\n      <th>1</th>\n      <td>55.0</td>\n      <td>viñamar</td>\n      <td>VIDRIO</td>\n      <td>CCU</td>\n      <td>LICORES, CERVEZAS Y  VINOS</td>\n      <td>Viña Mar Extra Brut</td>\n      <td>800.0</td>\n      <td>NaN</td>\n      <td>NaN</td>\n      <td>NaN</td>\n      <td>NaN</td>\n      <td>viña mar extra brut</td>\n      <td>43</td>\n      <td></td>\n    </tr>\n    <tr>\n      <th>2</th>\n      <td>137.0</td>\n      <td>viñamar</td>\n      <td>VIDRIO</td>\n      <td>CCU</td>\n      <td>LICORES, CERVEZAS Y  VINOS</td>\n      <td>VINO ESPUMANTE EXTRA BRUT</td>\n      <td>800.0</td>\n      <td>750CC</td>\n      <td>CC</td>\n      <td>CC</td>\n      <td>750.0</td>\n      <td>vino espumante extra brut</td>\n      <td>114</td>\n      <td>Brut Espumante</td>\n    </tr>\n    <tr>\n      <th>3</th>\n      <td>4839.0</td>\n      <td>alto del carmen</td>\n      <td>VIDRIO</td>\n      <td>NaN</td>\n      <td>LICORES, CERVEZAS Y  VINOS</td>\n      <td>Pisco Alto del Carmen LT Alto Especial</td>\n      <td>800.0</td>\n      <td>NaN</td>\n      <td>NaN</td>\n      <td>NaN</td>\n      <td>NaN</td>\n      <td>pisco alto carmen alto especial</td>\n      <td>130</td>\n      <td>Pisco</td>\n    </tr>\n    <tr>\n      <th>4</th>\n      <td>14.0</td>\n      <td>mistral</td>\n      <td>VIDRIO</td>\n      <td>CCU</td>\n      <td>LICORES, CERVEZAS Y  VINOS</td>\n      <td>PISCO  ESPECIAL AÑEJADO EN ROBLE BOTELLA</td>\n      <td>800.0</td>\n      <td>750CC</td>\n      <td>CC</td>\n      <td>CC</td>\n      <td>750.0</td>\n      <td>pisco especial añejado roble botella</td>\n      <td>130</td>\n      <td>Pisco</td>\n    </tr>\n    <tr>\n      <th>...</th>\n      <td>...</td>\n      <td>...</td>\n      <td>...</td>\n      <td>...</td>\n      <td>...</td>\n      <td>...</td>\n      <td>...</td>\n      <td>...</td>\n      <td>...</td>\n      <td>...</td>\n      <td>...</td>\n      <td>...</td>\n      <td>...</td>\n      <td>...</td>\n    </tr>\n    <tr>\n      <th>4993</th>\n      <td>872.0</td>\n      <td>prochef</td>\n      <td>NaN</td>\n      <td>PROCHEF</td>\n      <td>NaN</td>\n      <td>ACEITE AEROSOL COCO PROCHEF GR</td>\n      <td>1.0</td>\n      <td>225GR</td>\n      <td>GR</td>\n      <td>GR</td>\n      <td>225.0</td>\n      <td>aceite aerosol coco prochef</td>\n      <td>12</td>\n      <td>Aceite</td>\n    </tr>\n    <tr>\n      <th>4994</th>\n      <td>873.0</td>\n      <td>prochef</td>\n      <td>NaN</td>\n      <td>PROCHEF</td>\n      <td>NaN</td>\n      <td>ACEITE AEROSOL CANOL PROCHEF GR</td>\n      <td>1.0</td>\n      <td>400GR</td>\n      <td>GR</td>\n      <td>GR</td>\n      <td>400.0</td>\n      <td>aceite aerosol canol prochef</td>\n      <td>12</td>\n      <td>Aceite</td>\n    </tr>\n    <tr>\n      <th>4995</th>\n      <td>874.0</td>\n      <td>prochef</td>\n      <td>NaN</td>\n      <td>PROCHEF</td>\n      <td>NaN</td>\n      <td>SPRAY OLIVA LIGHT. PROCHEF GR</td>\n      <td>1.0</td>\n      <td>225GR</td>\n      <td>GR</td>\n      <td>GR</td>\n      <td>225.0</td>\n      <td>spray oliva light prochef</td>\n      <td>43</td>\n      <td></td>\n    </tr>\n    <tr>\n      <th>4996</th>\n      <td>738.0</td>\n      <td>olivodeplata</td>\n      <td>NaN</td>\n      <td>OLIVODEPLATA</td>\n      <td>NaN</td>\n      <td>ACEITE OLIVA EXTRA VIRGEN OLIVODEPLATA LT</td>\n      <td>1.0</td>\n      <td>1LT</td>\n      <td>LT</td>\n      <td>LT</td>\n      <td>1.0</td>\n      <td>aceite oliva extra virgen olivodeplata</td>\n      <td>12</td>\n      <td>Aceite</td>\n    </tr>\n    <tr>\n      <th>4997</th>\n      <td>882.0</td>\n      <td>undurraga</td>\n      <td>VIDRIO</td>\n      <td>NaN</td>\n      <td>LICORES, CERVEZAS Y  VINOS</td>\n      <td>undurraga brut  ml - vidrio</td>\n      <td>1.0</td>\n      <td>NaN</td>\n      <td>NaN</td>\n      <td>NaN</td>\n      <td>NaN</td>\n      <td>undurraga brut vidrio</td>\n      <td>43</td>\n      <td></td>\n    </tr>\n  </tbody>\n</table>\n<p>4998 rows × 14 columns</p>\n</div>"
     },
     "execution_count": 207,
     "metadata": {},
     "output_type": "execute_result"
    }
   ],
   "source": [
    "cluster_list = [300]\n",
    "for clust in cluster_list:\n",
    "    df = cluster_text(df, clust)"
   ],
   "metadata": {
    "collapsed": false,
    "pycharm": {
     "name": "#%%\n"
    }
   }
  },
  {
   "cell_type": "code",
   "execution_count": 209,
   "outputs": [
    {
     "data": {
      "text/plain": "      id_producto    nombre_marca nombre_reciclaje  nombre_empresa  \\\n0            55.0         viñamar           VIDRIO             CCU   \n1          2667.0          bombay              NaN             NaN   \n2          2671.0          bombay              NaN             NaN   \n3          2740.0       tanqueray              NaN             NaN   \n4          2741.0          larios              NaN             NaN   \n...           ...             ...              ...             ...   \n1196        841.0         colacao              NaN         COLACAO   \n1197        842.0         colacao              NaN         COLACAO   \n1198        868.0  bellaholandesa              NaN  BELLAHOLANDESA   \n1199        874.0         prochef              NaN         PROCHEF   \n1200        882.0       undurraga           VIDRIO             NaN   \n\n     nombre_productos_clasificacion                            nombre  \\\n0        LICORES, CERVEZAS Y  VINOS               Viña Mar Extra Brut   \n1        LICORES, CERVEZAS Y  VINOS            Gin Star Of Bombay  Gl   \n2        LICORES, CERVEZAS Y  VINOS            Gin Bombay Saphire  Gl   \n3        LICORES, CERVEZAS Y  VINOS                Gin Tanqueray . Gl   \n4        LICORES, CERVEZAS Y  VINOS                         Gin dry .   \n...                             ...                               ...   \n1196                            NaN          COLA CAO NOIR COLACAO GR   \n1197                            NaN         COLA CAO MOCCA COLACAO GR   \n1198                            NaN  EVAPORADA B.H. BELLAHOLANDESA GR   \n1199                            NaN     SPRAY OLIVA LIGHT. PROCHEF GR   \n1200     LICORES, CERVEZAS Y  VINOS       undurraga brut  ml - vidrio   \n\n      gramos_envase  formato   unidad unidad_real  cantidad  \\\n0             800.0      NaN      NaN         NaN       NaN   \n1             700.0  SAPHIRE  SAPHIRE     SAPHIRE       NaN   \n2             700.0  SAPHIRE  SAPHIRE     SAPHIRE       NaN   \n3             700.0    750ML       ML          ML     750.0   \n4             700.0       UN       UN          UN       NaN   \n...             ...      ...      ...         ...       ...   \n1196            1.0    300GR       GR          GR     300.0   \n1197            1.0    270GR       GR          GR     270.0   \n1198            1.0    405GR       GR          GR     405.0   \n1199            1.0    225GR       GR          GR     225.0   \n1200            1.0      NaN      NaN         NaN       NaN   \n\n                             texto  cluster300 label300  cluster250   label250  \n0              viña mar extra brut          43                  167  Brut Viña  \n1                  gin star bombay          43                  181        Gin  \n2               gin bombay saphire          43                  181        Gin  \n3                    gin tanqueray          43                  181        Gin  \n4                          gin dry          43                  181        Gin  \n...                            ...         ...      ...         ...        ...  \n1196         cola cao noir colacao          43                    9        Cao  \n1197        cola cao mocca colacao          43                    9        Cao  \n1198  evaporado b.h bellaholandesa          43                   10             \n1199     spray oliva light prochef          43                  131      Spray  \n1200         undurraga brut vidrio          43                   10             \n\n[1201 rows x 16 columns]",
      "text/html": "<div>\n<style scoped>\n    .dataframe tbody tr th:only-of-type {\n        vertical-align: middle;\n    }\n\n    .dataframe tbody tr th {\n        vertical-align: top;\n    }\n\n    .dataframe thead th {\n        text-align: right;\n    }\n</style>\n<table border=\"1\" class=\"dataframe\">\n  <thead>\n    <tr style=\"text-align: right;\">\n      <th></th>\n      <th>id_producto</th>\n      <th>nombre_marca</th>\n      <th>nombre_reciclaje</th>\n      <th>nombre_empresa</th>\n      <th>nombre_productos_clasificacion</th>\n      <th>nombre</th>\n      <th>gramos_envase</th>\n      <th>formato</th>\n      <th>unidad</th>\n      <th>unidad_real</th>\n      <th>cantidad</th>\n      <th>texto</th>\n      <th>cluster300</th>\n      <th>label300</th>\n      <th>cluster250</th>\n      <th>label250</th>\n    </tr>\n  </thead>\n  <tbody>\n    <tr>\n      <th>0</th>\n      <td>55.0</td>\n      <td>viñamar</td>\n      <td>VIDRIO</td>\n      <td>CCU</td>\n      <td>LICORES, CERVEZAS Y  VINOS</td>\n      <td>Viña Mar Extra Brut</td>\n      <td>800.0</td>\n      <td>NaN</td>\n      <td>NaN</td>\n      <td>NaN</td>\n      <td>NaN</td>\n      <td>viña mar extra brut</td>\n      <td>43</td>\n      <td></td>\n      <td>167</td>\n      <td>Brut Viña</td>\n    </tr>\n    <tr>\n      <th>1</th>\n      <td>2667.0</td>\n      <td>bombay</td>\n      <td>NaN</td>\n      <td>NaN</td>\n      <td>LICORES, CERVEZAS Y  VINOS</td>\n      <td>Gin Star Of Bombay  Gl</td>\n      <td>700.0</td>\n      <td>SAPHIRE</td>\n      <td>SAPHIRE</td>\n      <td>SAPHIRE</td>\n      <td>NaN</td>\n      <td>gin star bombay</td>\n      <td>43</td>\n      <td></td>\n      <td>181</td>\n      <td>Gin</td>\n    </tr>\n    <tr>\n      <th>2</th>\n      <td>2671.0</td>\n      <td>bombay</td>\n      <td>NaN</td>\n      <td>NaN</td>\n      <td>LICORES, CERVEZAS Y  VINOS</td>\n      <td>Gin Bombay Saphire  Gl</td>\n      <td>700.0</td>\n      <td>SAPHIRE</td>\n      <td>SAPHIRE</td>\n      <td>SAPHIRE</td>\n      <td>NaN</td>\n      <td>gin bombay saphire</td>\n      <td>43</td>\n      <td></td>\n      <td>181</td>\n      <td>Gin</td>\n    </tr>\n    <tr>\n      <th>3</th>\n      <td>2740.0</td>\n      <td>tanqueray</td>\n      <td>NaN</td>\n      <td>NaN</td>\n      <td>LICORES, CERVEZAS Y  VINOS</td>\n      <td>Gin Tanqueray . Gl</td>\n      <td>700.0</td>\n      <td>750ML</td>\n      <td>ML</td>\n      <td>ML</td>\n      <td>750.0</td>\n      <td>gin tanqueray</td>\n      <td>43</td>\n      <td></td>\n      <td>181</td>\n      <td>Gin</td>\n    </tr>\n    <tr>\n      <th>4</th>\n      <td>2741.0</td>\n      <td>larios</td>\n      <td>NaN</td>\n      <td>NaN</td>\n      <td>LICORES, CERVEZAS Y  VINOS</td>\n      <td>Gin dry .</td>\n      <td>700.0</td>\n      <td>UN</td>\n      <td>UN</td>\n      <td>UN</td>\n      <td>NaN</td>\n      <td>gin dry</td>\n      <td>43</td>\n      <td></td>\n      <td>181</td>\n      <td>Gin</td>\n    </tr>\n    <tr>\n      <th>...</th>\n      <td>...</td>\n      <td>...</td>\n      <td>...</td>\n      <td>...</td>\n      <td>...</td>\n      <td>...</td>\n      <td>...</td>\n      <td>...</td>\n      <td>...</td>\n      <td>...</td>\n      <td>...</td>\n      <td>...</td>\n      <td>...</td>\n      <td>...</td>\n      <td>...</td>\n      <td>...</td>\n    </tr>\n    <tr>\n      <th>1196</th>\n      <td>841.0</td>\n      <td>colacao</td>\n      <td>NaN</td>\n      <td>COLACAO</td>\n      <td>NaN</td>\n      <td>COLA CAO NOIR COLACAO GR</td>\n      <td>1.0</td>\n      <td>300GR</td>\n      <td>GR</td>\n      <td>GR</td>\n      <td>300.0</td>\n      <td>cola cao noir colacao</td>\n      <td>43</td>\n      <td></td>\n      <td>9</td>\n      <td>Cao</td>\n    </tr>\n    <tr>\n      <th>1197</th>\n      <td>842.0</td>\n      <td>colacao</td>\n      <td>NaN</td>\n      <td>COLACAO</td>\n      <td>NaN</td>\n      <td>COLA CAO MOCCA COLACAO GR</td>\n      <td>1.0</td>\n      <td>270GR</td>\n      <td>GR</td>\n      <td>GR</td>\n      <td>270.0</td>\n      <td>cola cao mocca colacao</td>\n      <td>43</td>\n      <td></td>\n      <td>9</td>\n      <td>Cao</td>\n    </tr>\n    <tr>\n      <th>1198</th>\n      <td>868.0</td>\n      <td>bellaholandesa</td>\n      <td>NaN</td>\n      <td>BELLAHOLANDESA</td>\n      <td>NaN</td>\n      <td>EVAPORADA B.H. BELLAHOLANDESA GR</td>\n      <td>1.0</td>\n      <td>405GR</td>\n      <td>GR</td>\n      <td>GR</td>\n      <td>405.0</td>\n      <td>evaporado b.h bellaholandesa</td>\n      <td>43</td>\n      <td></td>\n      <td>10</td>\n      <td></td>\n    </tr>\n    <tr>\n      <th>1199</th>\n      <td>874.0</td>\n      <td>prochef</td>\n      <td>NaN</td>\n      <td>PROCHEF</td>\n      <td>NaN</td>\n      <td>SPRAY OLIVA LIGHT. PROCHEF GR</td>\n      <td>1.0</td>\n      <td>225GR</td>\n      <td>GR</td>\n      <td>GR</td>\n      <td>225.0</td>\n      <td>spray oliva light prochef</td>\n      <td>43</td>\n      <td></td>\n      <td>131</td>\n      <td>Spray</td>\n    </tr>\n    <tr>\n      <th>1200</th>\n      <td>882.0</td>\n      <td>undurraga</td>\n      <td>VIDRIO</td>\n      <td>NaN</td>\n      <td>LICORES, CERVEZAS Y  VINOS</td>\n      <td>undurraga brut  ml - vidrio</td>\n      <td>1.0</td>\n      <td>NaN</td>\n      <td>NaN</td>\n      <td>NaN</td>\n      <td>NaN</td>\n      <td>undurraga brut vidrio</td>\n      <td>43</td>\n      <td></td>\n      <td>10</td>\n      <td></td>\n    </tr>\n  </tbody>\n</table>\n<p>1201 rows × 16 columns</p>\n</div>"
     },
     "execution_count": 209,
     "metadata": {},
     "output_type": "execute_result"
    }
   ],
   "source": [
    "df_rezagados = df[df['label300'] == '']\n",
    "df_rezagados.reset_index(drop=True, inplace=True)\n",
    "cluster_list = [250]\n",
    "for clust in cluster_list:\n",
    "    df_rezagados = cluster_text(df_rezagados, clust)\n",
    "df_rezagados"
   ],
   "metadata": {
    "collapsed": false,
    "pycharm": {
     "name": "#%%\n"
    }
   }
  },
  {
   "cell_type": "code",
   "execution_count": 212,
   "outputs": [
    {
     "data": {
      "text/plain": "     id_producto    nombre_marca nombre_reciclaje  nombre_empresa  \\\n0         4815.0  santa carolina           VIDRIO             NaN   \n1         4904.0         puyehue           VIDRIO             NaN   \n2         4997.0             nan              NaN             NaN   \n3          625.0           colun              NaN           COLUN   \n4         1517.0         kasteel              NaN             NaN   \n..           ...             ...              ...             ...   \n612        832.0      bravocream              NaN      BRAVOCREAM   \n613        834.0        isolabio              NaN        ISOLABIO   \n614        835.0          scotti              NaN          SCOTTI   \n615        868.0  bellaholandesa              NaN  BELLAHOLANDESA   \n616        882.0       undurraga           VIDRIO             NaN   \n\n    nombre_productos_clasificacion  \\\n0       LICORES, CERVEZAS Y  VINOS   \n1           BEBIDAS, AGUAS Y JUGOS   \n2                              NaN   \n3                              NaN   \n4       LICORES, CERVEZAS Y  VINOS   \n..                             ...   \n612                            NaN   \n613                            NaN   \n614                            NaN   \n615                            NaN   \n616     LICORES, CERVEZAS Y  VINOS   \n\n                                          nombre  gramos_envase formato  \\\n0                      Carmenere Gran Reserva cc          525.0     NaN   \n1    Agua Mineral Natural PUYEHUE Gasificada  ml          215.0     NaN   \n2                               vital vidrio  ml          190.0     NaN   \n3                    L CAP LIGHT PRISMA COLUN CC          180.0   330CC   \n4                             Ceverveza Botella           180.0   330ML   \n..                                           ...            ...     ...   \n612                  BRAVO CREM ML BRAVOCREAM ML            1.0   200ML   \n613                    CREMAVENA ORG ISOLABIO ML            1.0   200ML   \n614                 ALIM LIQUIDO AVENA SCOTTI GR            1.0     1GR   \n615             EVAPORADA B.H. BELLAHOLANDESA GR            1.0   405GR   \n616                  undurraga brut  ml - vidrio            1.0     NaN   \n\n    unidad unidad_real  cantidad                                    texto  \\\n0      NaN         NaN       NaN                   carmenere gran reserva   \n1      NaN         NaN       NaN  agua mineral natural puyehue gasificado   \n2      NaN         NaN       NaN                             vital vidrio   \n3       CC          CC     330.0                   cap light prisma colun   \n4       ML          ML     330.0                        ceverveza botella   \n..     ...         ...       ...                                      ...   \n612     ML          ML     200.0                    bravo crem bravocream   \n613     ML          ML     200.0                   cremavena org isolabio   \n614     GR          GR       1.0                alim liquido avena scotti   \n615     GR          GR     405.0             evaporado b.h bellaholandesa   \n616    NaN         NaN       NaN                    undurraga brut vidrio   \n\n     cluster300 label300  cluster250 label250  cluster350            label350  \n0            43                   10                  192           Carmenere  \n1            43                   10                  295          Gasificado  \n2            43                   10                  212              Vidrio  \n3            43                   10                  186                 Cap  \n4            43                   10                  267   Botella Ceverveza  \n..          ...      ...         ...      ...         ...                 ...  \n612          43                   10                  289          Bravo Crem  \n613          43                   10                  206       Cremavena Org  \n614          43                   10                  144  Alim Avena Liquido  \n615          43                   10                  301           Evaporado  \n616          43                   10                  212              Vidrio  \n\n[617 rows x 18 columns]",
      "text/html": "<div>\n<style scoped>\n    .dataframe tbody tr th:only-of-type {\n        vertical-align: middle;\n    }\n\n    .dataframe tbody tr th {\n        vertical-align: top;\n    }\n\n    .dataframe thead th {\n        text-align: right;\n    }\n</style>\n<table border=\"1\" class=\"dataframe\">\n  <thead>\n    <tr style=\"text-align: right;\">\n      <th></th>\n      <th>id_producto</th>\n      <th>nombre_marca</th>\n      <th>nombre_reciclaje</th>\n      <th>nombre_empresa</th>\n      <th>nombre_productos_clasificacion</th>\n      <th>nombre</th>\n      <th>gramos_envase</th>\n      <th>formato</th>\n      <th>unidad</th>\n      <th>unidad_real</th>\n      <th>cantidad</th>\n      <th>texto</th>\n      <th>cluster300</th>\n      <th>label300</th>\n      <th>cluster250</th>\n      <th>label250</th>\n      <th>cluster350</th>\n      <th>label350</th>\n    </tr>\n  </thead>\n  <tbody>\n    <tr>\n      <th>0</th>\n      <td>4815.0</td>\n      <td>santa carolina</td>\n      <td>VIDRIO</td>\n      <td>NaN</td>\n      <td>LICORES, CERVEZAS Y  VINOS</td>\n      <td>Carmenere Gran Reserva cc</td>\n      <td>525.0</td>\n      <td>NaN</td>\n      <td>NaN</td>\n      <td>NaN</td>\n      <td>NaN</td>\n      <td>carmenere gran reserva</td>\n      <td>43</td>\n      <td></td>\n      <td>10</td>\n      <td></td>\n      <td>192</td>\n      <td>Carmenere</td>\n    </tr>\n    <tr>\n      <th>1</th>\n      <td>4904.0</td>\n      <td>puyehue</td>\n      <td>VIDRIO</td>\n      <td>NaN</td>\n      <td>BEBIDAS, AGUAS Y JUGOS</td>\n      <td>Agua Mineral Natural PUYEHUE Gasificada  ml</td>\n      <td>215.0</td>\n      <td>NaN</td>\n      <td>NaN</td>\n      <td>NaN</td>\n      <td>NaN</td>\n      <td>agua mineral natural puyehue gasificado</td>\n      <td>43</td>\n      <td></td>\n      <td>10</td>\n      <td></td>\n      <td>295</td>\n      <td>Gasificado</td>\n    </tr>\n    <tr>\n      <th>2</th>\n      <td>4997.0</td>\n      <td>nan</td>\n      <td>NaN</td>\n      <td>NaN</td>\n      <td>NaN</td>\n      <td>vital vidrio  ml</td>\n      <td>190.0</td>\n      <td>NaN</td>\n      <td>NaN</td>\n      <td>NaN</td>\n      <td>NaN</td>\n      <td>vital vidrio</td>\n      <td>43</td>\n      <td></td>\n      <td>10</td>\n      <td></td>\n      <td>212</td>\n      <td>Vidrio</td>\n    </tr>\n    <tr>\n      <th>3</th>\n      <td>625.0</td>\n      <td>colun</td>\n      <td>NaN</td>\n      <td>COLUN</td>\n      <td>NaN</td>\n      <td>L CAP LIGHT PRISMA COLUN CC</td>\n      <td>180.0</td>\n      <td>330CC</td>\n      <td>CC</td>\n      <td>CC</td>\n      <td>330.0</td>\n      <td>cap light prisma colun</td>\n      <td>43</td>\n      <td></td>\n      <td>10</td>\n      <td></td>\n      <td>186</td>\n      <td>Cap</td>\n    </tr>\n    <tr>\n      <th>4</th>\n      <td>1517.0</td>\n      <td>kasteel</td>\n      <td>NaN</td>\n      <td>NaN</td>\n      <td>LICORES, CERVEZAS Y  VINOS</td>\n      <td>Ceverveza Botella</td>\n      <td>180.0</td>\n      <td>330ML</td>\n      <td>ML</td>\n      <td>ML</td>\n      <td>330.0</td>\n      <td>ceverveza botella</td>\n      <td>43</td>\n      <td></td>\n      <td>10</td>\n      <td></td>\n      <td>267</td>\n      <td>Botella Ceverveza</td>\n    </tr>\n    <tr>\n      <th>...</th>\n      <td>...</td>\n      <td>...</td>\n      <td>...</td>\n      <td>...</td>\n      <td>...</td>\n      <td>...</td>\n      <td>...</td>\n      <td>...</td>\n      <td>...</td>\n      <td>...</td>\n      <td>...</td>\n      <td>...</td>\n      <td>...</td>\n      <td>...</td>\n      <td>...</td>\n      <td>...</td>\n      <td>...</td>\n      <td>...</td>\n    </tr>\n    <tr>\n      <th>612</th>\n      <td>832.0</td>\n      <td>bravocream</td>\n      <td>NaN</td>\n      <td>BRAVOCREAM</td>\n      <td>NaN</td>\n      <td>BRAVO CREM ML BRAVOCREAM ML</td>\n      <td>1.0</td>\n      <td>200ML</td>\n      <td>ML</td>\n      <td>ML</td>\n      <td>200.0</td>\n      <td>bravo crem bravocream</td>\n      <td>43</td>\n      <td></td>\n      <td>10</td>\n      <td></td>\n      <td>289</td>\n      <td>Bravo Crem</td>\n    </tr>\n    <tr>\n      <th>613</th>\n      <td>834.0</td>\n      <td>isolabio</td>\n      <td>NaN</td>\n      <td>ISOLABIO</td>\n      <td>NaN</td>\n      <td>CREMAVENA ORG ISOLABIO ML</td>\n      <td>1.0</td>\n      <td>200ML</td>\n      <td>ML</td>\n      <td>ML</td>\n      <td>200.0</td>\n      <td>cremavena org isolabio</td>\n      <td>43</td>\n      <td></td>\n      <td>10</td>\n      <td></td>\n      <td>206</td>\n      <td>Cremavena Org</td>\n    </tr>\n    <tr>\n      <th>614</th>\n      <td>835.0</td>\n      <td>scotti</td>\n      <td>NaN</td>\n      <td>SCOTTI</td>\n      <td>NaN</td>\n      <td>ALIM LIQUIDO AVENA SCOTTI GR</td>\n      <td>1.0</td>\n      <td>1GR</td>\n      <td>GR</td>\n      <td>GR</td>\n      <td>1.0</td>\n      <td>alim liquido avena scotti</td>\n      <td>43</td>\n      <td></td>\n      <td>10</td>\n      <td></td>\n      <td>144</td>\n      <td>Alim Avena Liquido</td>\n    </tr>\n    <tr>\n      <th>615</th>\n      <td>868.0</td>\n      <td>bellaholandesa</td>\n      <td>NaN</td>\n      <td>BELLAHOLANDESA</td>\n      <td>NaN</td>\n      <td>EVAPORADA B.H. BELLAHOLANDESA GR</td>\n      <td>1.0</td>\n      <td>405GR</td>\n      <td>GR</td>\n      <td>GR</td>\n      <td>405.0</td>\n      <td>evaporado b.h bellaholandesa</td>\n      <td>43</td>\n      <td></td>\n      <td>10</td>\n      <td></td>\n      <td>301</td>\n      <td>Evaporado</td>\n    </tr>\n    <tr>\n      <th>616</th>\n      <td>882.0</td>\n      <td>undurraga</td>\n      <td>VIDRIO</td>\n      <td>NaN</td>\n      <td>LICORES, CERVEZAS Y  VINOS</td>\n      <td>undurraga brut  ml - vidrio</td>\n      <td>1.0</td>\n      <td>NaN</td>\n      <td>NaN</td>\n      <td>NaN</td>\n      <td>NaN</td>\n      <td>undurraga brut vidrio</td>\n      <td>43</td>\n      <td></td>\n      <td>10</td>\n      <td></td>\n      <td>212</td>\n      <td>Vidrio</td>\n    </tr>\n  </tbody>\n</table>\n<p>617 rows × 18 columns</p>\n</div>"
     },
     "execution_count": 212,
     "metadata": {},
     "output_type": "execute_result"
    }
   ],
   "source": [
    "df_rezagados2 = df_rezagados[df_rezagados['label250'] == '']\n",
    "df_rezagados2.reset_index(drop=True, inplace=True)\n",
    "cluster_list = [350]\n",
    "for clust in cluster_list:\n",
    "    df_rezagados2 = cluster_text(df_rezagados2, clust)\n",
    "df_rezagados2"
   ],
   "metadata": {
    "collapsed": false,
    "pycharm": {
     "name": "#%%\n"
    }
   }
  },
  {
   "cell_type": "code",
   "execution_count": 142,
   "outputs": [],
   "source": [
    "df['unidad_real']=df.formato.str.replace('(\\d*\\.\\d+|\\d+)',\"\")\n",
    "df['unidad_real'] = df['unidad_real'].str.replace('X', '')\n",
    "df['unidad_real'] = df['unidad_real'].str.replace('?', '')\n",
    "df['unidad_real'] = df['unidad_real'].replace('Kg', 'KG')\n",
    "df['unidad_real'] = df['unidad_real'].replace('G', 'GR')\n",
    "df['unidad_real'] = df['unidad_real'].replace('GRGR', 'GR')\n",
    "df['unidad_real'] = df['unidad_real'].replace('POTEGR', 'GR')\n",
    "df['unidad_real'] = df['unidad_real'].replace('LITRO', 'LT')\n",
    "df['unidad_real'] = df['unidad_real'].replace('LTLT', 'LT')\n",
    "df['unidad_real'] = df['unidad_real'].replace('L', 'LT')\n",
    "df['unidad_real'] = df['unidad_real'].replace('UNIDADES', 'UN')\n",
    "df['unidad_real'] = df['unidad_real'].replace('UNUNIDADES', 'UN')\n",
    "df['unidad_real'] = df['unidad_real'].replace('UNID', 'UN')\n",
    "df['unidad_real'] = df['unidad_real'].replace('UNUN', 'UN')\n",
    "df['unidad_real'] = df['unidad_real'].replace('MLML', 'ML')\n",
    "df['unidad_real'] = df['unidad_real'].replace('CCCC', 'CC')"
   ],
   "metadata": {
    "collapsed": false,
    "pycharm": {
     "name": "#%%\n"
    }
   }
  },
  {
   "cell_type": "code",
   "execution_count": 147,
   "outputs": [
    {
     "data": {
      "text/plain": "      id_producto    nombre_marca nombre_reciclaje  nombre_empresa  \\\n1            55.0         viñamar           VIDRIO             CCU   \n135        4854.0             nan              NaN             NaN   \n137        4815.0  santa carolina           VIDRIO             NaN   \n349        4848.0       kunstmann              NaN             CCU   \n357        4904.0         puyehue           VIDRIO             NaN   \n...           ...             ...              ...             ...   \n4969        833.0        isolabio              NaN        ISOLABIO   \n4970        834.0        isolabio              NaN        ISOLABIO   \n4971        835.0          scotti              NaN          SCOTTI   \n4989        868.0  bellaholandesa              NaN  BELLAHOLANDESA   \n4997        882.0       undurraga           VIDRIO             NaN   \n\n     nombre_productos_clasificacion  \\\n1        LICORES, CERVEZAS Y  VINOS   \n135      LICORES, CERVEZAS Y  VINOS   \n137      LICORES, CERVEZAS Y  VINOS   \n349      LICORES, CERVEZAS Y  VINOS   \n357          BEBIDAS, AGUAS Y JUGOS   \n...                             ...   \n4969                            NaN   \n4970                            NaN   \n4971                            NaN   \n4989                            NaN   \n4997     LICORES, CERVEZAS Y  VINOS   \n\n                                                 nombre  gramos_envase  \\\n1                                   Viña Mar Extra Brut          800.0   \n135              Aperol  aperitivo dal campari  ml neto          549.0   \n137                           Carmenere Gran Reserva cc          525.0   \n349   Kunstmann Gran Torobayo Valdivia  cc netos.  a...          393.0   \n357         Agua Mineral Natural PUYEHUE Gasificada  ml          215.0   \n...                                                 ...            ...   \n4969                          CREM COCO ORG ISOLABIO ML            1.0   \n4970                          CREMAVENA ORG ISOLABIO ML            1.0   \n4971                       ALIM LIQUIDO AVENA SCOTTI GR            1.0   \n4989                   EVAPORADA B.H. BELLAHOLANDESA GR            1.0   \n4997                        undurraga brut  ml - vidrio            1.0   \n\n     formato unidad unidad_real  cantidad  \\\n1        NaN    NaN         NaN       NaN   \n135      NaN    NaN         NaN       NaN   \n137      NaN    NaN         NaN       NaN   \n349      NaN    NaN         NaN       NaN   \n357      NaN    NaN         NaN       NaN   \n...      ...    ...         ...       ...   \n4969   200ML     ML          ML     200.0   \n4970   200ML     ML          ML     200.0   \n4971     1GR     GR          GR       1.0   \n4989   405GR     GR          GR     405.0   \n4997     NaN    NaN         NaN       NaN   \n\n                                              texto  cluster500 label  \n1                               viña mar extra brut           8        \n135               aperol aperitivo dal campari neto           8        \n137                          carmenere gran reserva           8        \n349   kunstmann gran torobayo valdivia neto alcohol           8        \n357         agua mineral natural puyehue gasificado           8        \n...                                             ...         ...   ...  \n4969                         crem coco org isolabio           8        \n4970                         cremavena org isolabio           8        \n4971                      alim liquido avena scotti           8        \n4989                   evaporado b.h bellaholandesa           8        \n4997                          undurraga brut vidrio           8        \n\n[915 rows x 14 columns]",
      "text/html": "<div>\n<style scoped>\n    .dataframe tbody tr th:only-of-type {\n        vertical-align: middle;\n    }\n\n    .dataframe tbody tr th {\n        vertical-align: top;\n    }\n\n    .dataframe thead th {\n        text-align: right;\n    }\n</style>\n<table border=\"1\" class=\"dataframe\">\n  <thead>\n    <tr style=\"text-align: right;\">\n      <th></th>\n      <th>id_producto</th>\n      <th>nombre_marca</th>\n      <th>nombre_reciclaje</th>\n      <th>nombre_empresa</th>\n      <th>nombre_productos_clasificacion</th>\n      <th>nombre</th>\n      <th>gramos_envase</th>\n      <th>formato</th>\n      <th>unidad</th>\n      <th>unidad_real</th>\n      <th>cantidad</th>\n      <th>texto</th>\n      <th>cluster500</th>\n      <th>label</th>\n    </tr>\n  </thead>\n  <tbody>\n    <tr>\n      <th>1</th>\n      <td>55.0</td>\n      <td>viñamar</td>\n      <td>VIDRIO</td>\n      <td>CCU</td>\n      <td>LICORES, CERVEZAS Y  VINOS</td>\n      <td>Viña Mar Extra Brut</td>\n      <td>800.0</td>\n      <td>NaN</td>\n      <td>NaN</td>\n      <td>NaN</td>\n      <td>NaN</td>\n      <td>viña mar extra brut</td>\n      <td>8</td>\n      <td></td>\n    </tr>\n    <tr>\n      <th>135</th>\n      <td>4854.0</td>\n      <td>nan</td>\n      <td>NaN</td>\n      <td>NaN</td>\n      <td>LICORES, CERVEZAS Y  VINOS</td>\n      <td>Aperol  aperitivo dal campari  ml neto</td>\n      <td>549.0</td>\n      <td>NaN</td>\n      <td>NaN</td>\n      <td>NaN</td>\n      <td>NaN</td>\n      <td>aperol aperitivo dal campari neto</td>\n      <td>8</td>\n      <td></td>\n    </tr>\n    <tr>\n      <th>137</th>\n      <td>4815.0</td>\n      <td>santa carolina</td>\n      <td>VIDRIO</td>\n      <td>NaN</td>\n      <td>LICORES, CERVEZAS Y  VINOS</td>\n      <td>Carmenere Gran Reserva cc</td>\n      <td>525.0</td>\n      <td>NaN</td>\n      <td>NaN</td>\n      <td>NaN</td>\n      <td>NaN</td>\n      <td>carmenere gran reserva</td>\n      <td>8</td>\n      <td></td>\n    </tr>\n    <tr>\n      <th>349</th>\n      <td>4848.0</td>\n      <td>kunstmann</td>\n      <td>NaN</td>\n      <td>CCU</td>\n      <td>LICORES, CERVEZAS Y  VINOS</td>\n      <td>Kunstmann Gran Torobayo Valdivia  cc netos.  a...</td>\n      <td>393.0</td>\n      <td>NaN</td>\n      <td>NaN</td>\n      <td>NaN</td>\n      <td>NaN</td>\n      <td>kunstmann gran torobayo valdivia neto alcohol</td>\n      <td>8</td>\n      <td></td>\n    </tr>\n    <tr>\n      <th>357</th>\n      <td>4904.0</td>\n      <td>puyehue</td>\n      <td>VIDRIO</td>\n      <td>NaN</td>\n      <td>BEBIDAS, AGUAS Y JUGOS</td>\n      <td>Agua Mineral Natural PUYEHUE Gasificada  ml</td>\n      <td>215.0</td>\n      <td>NaN</td>\n      <td>NaN</td>\n      <td>NaN</td>\n      <td>NaN</td>\n      <td>agua mineral natural puyehue gasificado</td>\n      <td>8</td>\n      <td></td>\n    </tr>\n    <tr>\n      <th>...</th>\n      <td>...</td>\n      <td>...</td>\n      <td>...</td>\n      <td>...</td>\n      <td>...</td>\n      <td>...</td>\n      <td>...</td>\n      <td>...</td>\n      <td>...</td>\n      <td>...</td>\n      <td>...</td>\n      <td>...</td>\n      <td>...</td>\n      <td>...</td>\n    </tr>\n    <tr>\n      <th>4969</th>\n      <td>833.0</td>\n      <td>isolabio</td>\n      <td>NaN</td>\n      <td>ISOLABIO</td>\n      <td>NaN</td>\n      <td>CREM COCO ORG ISOLABIO ML</td>\n      <td>1.0</td>\n      <td>200ML</td>\n      <td>ML</td>\n      <td>ML</td>\n      <td>200.0</td>\n      <td>crem coco org isolabio</td>\n      <td>8</td>\n      <td></td>\n    </tr>\n    <tr>\n      <th>4970</th>\n      <td>834.0</td>\n      <td>isolabio</td>\n      <td>NaN</td>\n      <td>ISOLABIO</td>\n      <td>NaN</td>\n      <td>CREMAVENA ORG ISOLABIO ML</td>\n      <td>1.0</td>\n      <td>200ML</td>\n      <td>ML</td>\n      <td>ML</td>\n      <td>200.0</td>\n      <td>cremavena org isolabio</td>\n      <td>8</td>\n      <td></td>\n    </tr>\n    <tr>\n      <th>4971</th>\n      <td>835.0</td>\n      <td>scotti</td>\n      <td>NaN</td>\n      <td>SCOTTI</td>\n      <td>NaN</td>\n      <td>ALIM LIQUIDO AVENA SCOTTI GR</td>\n      <td>1.0</td>\n      <td>1GR</td>\n      <td>GR</td>\n      <td>GR</td>\n      <td>1.0</td>\n      <td>alim liquido avena scotti</td>\n      <td>8</td>\n      <td></td>\n    </tr>\n    <tr>\n      <th>4989</th>\n      <td>868.0</td>\n      <td>bellaholandesa</td>\n      <td>NaN</td>\n      <td>BELLAHOLANDESA</td>\n      <td>NaN</td>\n      <td>EVAPORADA B.H. BELLAHOLANDESA GR</td>\n      <td>1.0</td>\n      <td>405GR</td>\n      <td>GR</td>\n      <td>GR</td>\n      <td>405.0</td>\n      <td>evaporado b.h bellaholandesa</td>\n      <td>8</td>\n      <td></td>\n    </tr>\n    <tr>\n      <th>4997</th>\n      <td>882.0</td>\n      <td>undurraga</td>\n      <td>VIDRIO</td>\n      <td>NaN</td>\n      <td>LICORES, CERVEZAS Y  VINOS</td>\n      <td>undurraga brut  ml - vidrio</td>\n      <td>1.0</td>\n      <td>NaN</td>\n      <td>NaN</td>\n      <td>NaN</td>\n      <td>NaN</td>\n      <td>undurraga brut vidrio</td>\n      <td>8</td>\n      <td></td>\n    </tr>\n  </tbody>\n</table>\n<p>915 rows × 14 columns</p>\n</div>"
     },
     "execution_count": 147,
     "metadata": {},
     "output_type": "execute_result"
    }
   ],
   "source": [
    "df['label'] = df['label'].str.title()\n",
    "df_rezagados = df[df['label'] == '']\n",
    "df_rezagados"
   ],
   "metadata": {
    "collapsed": false,
    "pycharm": {
     "name": "#%%\n"
    }
   }
  },
  {
   "cell_type": "code",
   "execution_count": 235,
   "outputs": [
    {
     "data": {
      "text/plain": "      id_producto     nombre_marca nombre_reciclaje nombre_empresa  \\\n0            44.0        celebrite           VIDRIO      CELEBRITE   \n2           137.0          viñamar           VIDRIO            CCU   \n3          4839.0  alto del carmen           VIDRIO            NaN   \n4            14.0          mistral           VIDRIO            CCU   \n5          1566.0           corona              NaN         CORONA   \n...           ...              ...              ...            ...   \n4991        870.0          grolsch              NaN        GROLSCH   \n4992        871.0         heineken              NaN            CCU   \n4993        872.0          prochef              NaN        PROCHEF   \n4994        873.0          prochef              NaN        PROCHEF   \n4996        738.0     olivodeplata              NaN   OLIVODEPLATA   \n\n     nombre_productos_clasificacion  \\\n0        LICORES, CERVEZAS Y  VINOS   \n2        LICORES, CERVEZAS Y  VINOS   \n3        LICORES, CERVEZAS Y  VINOS   \n4        LICORES, CERVEZAS Y  VINOS   \n5        LICORES, CERVEZAS Y  VINOS   \n...                             ...   \n4991                            NaN   \n4992                            NaN   \n4993                            NaN   \n4994                            NaN   \n4996                            NaN   \n\n                                         nombre  gramos_envase     formato  \\\n0            Espumante Celebrite Extra Brut  cc          800.0         NaN   \n2                     VINO ESPUMANTE EXTRA BRUT          800.0       750CC   \n3        Pisco Alto del Carmen LT Alto Especial          800.0         NaN   \n4      PISCO  ESPECIAL AÑEJADO EN ROBLE BOTELLA          800.0       750CC   \n5                            CERVEZA Corona  Cc          800.0  INDIVIDUAL   \n...                                         ...            ...         ...   \n4991                    CERVEZA UN G GROLSCH UN            1.0         6UN   \n4992               CERVEZA CERO U G HEINEKEN UN            1.0         6UN   \n4993             ACEITE AEROSOL COCO PROCHEF GR            1.0       225GR   \n4994            ACEITE AEROSOL CANOL PROCHEF GR            1.0       400GR   \n4996  ACEITE OLIVA EXTRA VIRGEN OLIVODEPLATA LT            1.0         1LT   \n\n          unidad unidad_real  cantidad  \\\n0            NaN         NaN       NaN   \n2             CC          CC     750.0   \n3            NaN         NaN       NaN   \n4             CC          CC     750.0   \n5     INDIVIDUAL  INDIVIDUAL       NaN   \n...          ...         ...       ...   \n4991          UN          UN       6.0   \n4992          UN          UN       6.0   \n4993          GR          GR     225.0   \n4994          GR          GR     400.0   \n4996          LT          LT       1.0   \n\n                                       texto  cluster300        label300  \n0             espumante celebrite extra brut         114  Brut Espumante  \n2                  vino espumante extra brut         114  Brut Espumante  \n3            pisco alto carmen alto especial         130           Pisco  \n4       pisco especial añejado roble botella         130           Pisco  \n5                             cerveza corona           6         Cerveza  \n...                                      ...         ...             ...  \n4991                         cerveza grolsch           6         Cerveza  \n4992                   cerveza cero heineken           6         Cerveza  \n4993             aceite aerosol coco prochef          12          Aceite  \n4994            aceite aerosol canol prochef          12          Aceite  \n4996  aceite oliva extra virgen olivodeplata          12          Aceite  \n\n[3797 rows x 14 columns]",
      "text/html": "<div>\n<style scoped>\n    .dataframe tbody tr th:only-of-type {\n        vertical-align: middle;\n    }\n\n    .dataframe tbody tr th {\n        vertical-align: top;\n    }\n\n    .dataframe thead th {\n        text-align: right;\n    }\n</style>\n<table border=\"1\" class=\"dataframe\">\n  <thead>\n    <tr style=\"text-align: right;\">\n      <th></th>\n      <th>id_producto</th>\n      <th>nombre_marca</th>\n      <th>nombre_reciclaje</th>\n      <th>nombre_empresa</th>\n      <th>nombre_productos_clasificacion</th>\n      <th>nombre</th>\n      <th>gramos_envase</th>\n      <th>formato</th>\n      <th>unidad</th>\n      <th>unidad_real</th>\n      <th>cantidad</th>\n      <th>texto</th>\n      <th>cluster300</th>\n      <th>label300</th>\n    </tr>\n  </thead>\n  <tbody>\n    <tr>\n      <th>0</th>\n      <td>44.0</td>\n      <td>celebrite</td>\n      <td>VIDRIO</td>\n      <td>CELEBRITE</td>\n      <td>LICORES, CERVEZAS Y  VINOS</td>\n      <td>Espumante Celebrite Extra Brut  cc</td>\n      <td>800.0</td>\n      <td>NaN</td>\n      <td>NaN</td>\n      <td>NaN</td>\n      <td>NaN</td>\n      <td>espumante celebrite extra brut</td>\n      <td>114</td>\n      <td>Brut Espumante</td>\n    </tr>\n    <tr>\n      <th>2</th>\n      <td>137.0</td>\n      <td>viñamar</td>\n      <td>VIDRIO</td>\n      <td>CCU</td>\n      <td>LICORES, CERVEZAS Y  VINOS</td>\n      <td>VINO ESPUMANTE EXTRA BRUT</td>\n      <td>800.0</td>\n      <td>750CC</td>\n      <td>CC</td>\n      <td>CC</td>\n      <td>750.0</td>\n      <td>vino espumante extra brut</td>\n      <td>114</td>\n      <td>Brut Espumante</td>\n    </tr>\n    <tr>\n      <th>3</th>\n      <td>4839.0</td>\n      <td>alto del carmen</td>\n      <td>VIDRIO</td>\n      <td>NaN</td>\n      <td>LICORES, CERVEZAS Y  VINOS</td>\n      <td>Pisco Alto del Carmen LT Alto Especial</td>\n      <td>800.0</td>\n      <td>NaN</td>\n      <td>NaN</td>\n      <td>NaN</td>\n      <td>NaN</td>\n      <td>pisco alto carmen alto especial</td>\n      <td>130</td>\n      <td>Pisco</td>\n    </tr>\n    <tr>\n      <th>4</th>\n      <td>14.0</td>\n      <td>mistral</td>\n      <td>VIDRIO</td>\n      <td>CCU</td>\n      <td>LICORES, CERVEZAS Y  VINOS</td>\n      <td>PISCO  ESPECIAL AÑEJADO EN ROBLE BOTELLA</td>\n      <td>800.0</td>\n      <td>750CC</td>\n      <td>CC</td>\n      <td>CC</td>\n      <td>750.0</td>\n      <td>pisco especial añejado roble botella</td>\n      <td>130</td>\n      <td>Pisco</td>\n    </tr>\n    <tr>\n      <th>5</th>\n      <td>1566.0</td>\n      <td>corona</td>\n      <td>NaN</td>\n      <td>CORONA</td>\n      <td>LICORES, CERVEZAS Y  VINOS</td>\n      <td>CERVEZA Corona  Cc</td>\n      <td>800.0</td>\n      <td>INDIVIDUAL</td>\n      <td>INDIVIDUAL</td>\n      <td>INDIVIDUAL</td>\n      <td>NaN</td>\n      <td>cerveza corona</td>\n      <td>6</td>\n      <td>Cerveza</td>\n    </tr>\n    <tr>\n      <th>...</th>\n      <td>...</td>\n      <td>...</td>\n      <td>...</td>\n      <td>...</td>\n      <td>...</td>\n      <td>...</td>\n      <td>...</td>\n      <td>...</td>\n      <td>...</td>\n      <td>...</td>\n      <td>...</td>\n      <td>...</td>\n      <td>...</td>\n      <td>...</td>\n    </tr>\n    <tr>\n      <th>4991</th>\n      <td>870.0</td>\n      <td>grolsch</td>\n      <td>NaN</td>\n      <td>GROLSCH</td>\n      <td>NaN</td>\n      <td>CERVEZA UN G GROLSCH UN</td>\n      <td>1.0</td>\n      <td>6UN</td>\n      <td>UN</td>\n      <td>UN</td>\n      <td>6.0</td>\n      <td>cerveza grolsch</td>\n      <td>6</td>\n      <td>Cerveza</td>\n    </tr>\n    <tr>\n      <th>4992</th>\n      <td>871.0</td>\n      <td>heineken</td>\n      <td>NaN</td>\n      <td>CCU</td>\n      <td>NaN</td>\n      <td>CERVEZA CERO U G HEINEKEN UN</td>\n      <td>1.0</td>\n      <td>6UN</td>\n      <td>UN</td>\n      <td>UN</td>\n      <td>6.0</td>\n      <td>cerveza cero heineken</td>\n      <td>6</td>\n      <td>Cerveza</td>\n    </tr>\n    <tr>\n      <th>4993</th>\n      <td>872.0</td>\n      <td>prochef</td>\n      <td>NaN</td>\n      <td>PROCHEF</td>\n      <td>NaN</td>\n      <td>ACEITE AEROSOL COCO PROCHEF GR</td>\n      <td>1.0</td>\n      <td>225GR</td>\n      <td>GR</td>\n      <td>GR</td>\n      <td>225.0</td>\n      <td>aceite aerosol coco prochef</td>\n      <td>12</td>\n      <td>Aceite</td>\n    </tr>\n    <tr>\n      <th>4994</th>\n      <td>873.0</td>\n      <td>prochef</td>\n      <td>NaN</td>\n      <td>PROCHEF</td>\n      <td>NaN</td>\n      <td>ACEITE AEROSOL CANOL PROCHEF GR</td>\n      <td>1.0</td>\n      <td>400GR</td>\n      <td>GR</td>\n      <td>GR</td>\n      <td>400.0</td>\n      <td>aceite aerosol canol prochef</td>\n      <td>12</td>\n      <td>Aceite</td>\n    </tr>\n    <tr>\n      <th>4996</th>\n      <td>738.0</td>\n      <td>olivodeplata</td>\n      <td>NaN</td>\n      <td>OLIVODEPLATA</td>\n      <td>NaN</td>\n      <td>ACEITE OLIVA EXTRA VIRGEN OLIVODEPLATA LT</td>\n      <td>1.0</td>\n      <td>1LT</td>\n      <td>LT</td>\n      <td>LT</td>\n      <td>1.0</td>\n      <td>aceite oliva extra virgen olivodeplata</td>\n      <td>12</td>\n      <td>Aceite</td>\n    </tr>\n  </tbody>\n</table>\n<p>3797 rows × 14 columns</p>\n</div>"
     },
     "execution_count": 235,
     "metadata": {},
     "output_type": "execute_result"
    }
   ],
   "source": [
    "df1 = df[df['label300']!='']\n",
    "df2 = df_rezagados[df_rezagados['label250']!='']\n",
    "df3 = df_rezagados2"
   ],
   "metadata": {
    "collapsed": false,
    "pycharm": {
     "name": "#%%\n"
    }
   }
  },
  {
   "cell_type": "code",
   "execution_count": 238,
   "outputs": [],
   "source": [
    "dict1 = {'cluster300':'cluster', 'label300':'label'}\n",
    "dict2 = {'label250':'label'}\n",
    "dict3 = {'label350':'label'}"
   ],
   "metadata": {
    "collapsed": false,
    "pycharm": {
     "name": "#%%\n"
    }
   }
  },
  {
   "cell_type": "code",
   "execution_count": 239,
   "outputs": [],
   "source": [
    "df1.rename(columns=dict1, inplace=True)\n",
    "df2.rename(columns=dict2, inplace=True)\n",
    "df3.rename(columns=dict3, inplace=True)"
   ],
   "metadata": {
    "collapsed": false,
    "pycharm": {
     "name": "#%%\n"
    }
   }
  },
  {
   "cell_type": "code",
   "execution_count": 240,
   "outputs": [],
   "source": [
    "df1 = df1[['id_producto', 'label']]\n",
    "df2 = df2[['id_producto', 'label']]\n",
    "df3 = df3[['id_producto', 'label']]"
   ],
   "metadata": {
    "collapsed": false,
    "pycharm": {
     "name": "#%%\n"
    }
   }
  },
  {
   "cell_type": "code",
   "execution_count": 248,
   "outputs": [],
   "source": [
    "df_aux = pd.concat([df1,df2,df3], axis=0)\n",
    "df = pd.merge(df, df_aux, on='id_producto', how='left')"
   ],
   "metadata": {
    "collapsed": false,
    "pycharm": {
     "name": "#%%\n"
    }
   }
  },
  {
   "cell_type": "code",
   "execution_count": 249,
   "outputs": [],
   "source": [
    "df.to_csv('dataset_clean.csv', index=False, encoding='utf-8')"
   ],
   "metadata": {
    "collapsed": false,
    "pycharm": {
     "name": "#%%\n"
    }
   }
  },
  {
   "cell_type": "code",
   "execution_count": null,
   "outputs": [],
   "source": [],
   "metadata": {
    "collapsed": false,
    "pycharm": {
     "name": "#%%\n"
    }
   }
  }
 ],
 "metadata": {
  "kernelspec": {
   "display_name": "Python 3",
   "language": "python",
   "name": "python3"
  },
  "language_info": {
   "codemirror_mode": {
    "name": "ipython",
    "version": 2
   },
   "file_extension": ".py",
   "mimetype": "text/x-python",
   "name": "python",
   "nbconvert_exporter": "python",
   "pygments_lexer": "ipython2",
   "version": "2.7.6"
  }
 },
 "nbformat": 4,
 "nbformat_minor": 0
}