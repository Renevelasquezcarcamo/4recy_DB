{
 "cells": [
  {
   "cell_type": "code",
   "execution_count": 1,
   "metadata": {
    "collapsed": true,
    "pycharm": {
     "name": "#%%\n"
    }
   },
   "outputs": [],
   "source": [
    "import pandas as pd\n",
    "import numpy as np\n",
    "import sklearn\n",
    "from sklearn.preprocessing import OneHotEncoder\n",
    "import matplotlib.pyplot as plt\n",
    "\n",
    "from sklearn.metrics import confusion_matrix\n",
    "from sklearn.metrics import accuracy_score\n",
    "\n",
    "from sklearn.tree import DecisionTreeClassifier\n",
    "from sklearn.ensemble import RandomForestClassifier\n",
    "from sklearn.model_selection import train_test_split\n",
    "\n",
    "from sklearn.preprocessing import LabelEncoder\n",
    "le = LabelEncoder()\n",
    "\n",
    "import seaborn as sns\n",
    "import warnings\n",
    "warnings.filterwarnings('ignore')"
   ]
  },
  {
   "cell_type": "code",
   "execution_count": 2,
   "outputs": [],
   "source": [
    "df = pd.read_csv('BBDD_productos.csv')"
   ],
   "metadata": {
    "collapsed": false,
    "pycharm": {
     "name": "#%%\n"
    }
   }
  },
  {
   "cell_type": "code",
   "execution_count": 13,
   "outputs": [],
   "source": [
    "df['name_up'] = df['nombre'].apply(lambda x: str(x).upper())\n",
    "unidades = df['unidad_real_pred'].unique().tolist()"
   ],
   "metadata": {
    "collapsed": false,
    "pycharm": {
     "name": "#%%\n"
    }
   }
  },
  {
   "cell_type": "code",
   "execution_count": 15,
   "outputs": [
    {
     "data": {
      "text/plain": "      id_producto     nombre_marca nombre_reciclaje nombre_empresa  \\\n0            44.0        celebrite           VIDRIO      CELEBRITE   \n3          4839.0  alto del carmen           VIDRIO            NaN   \n5          1566.0           corona              NaN         CORONA   \n17         2706.0          mistral              NaN            CCU   \n21         2721.0             alto              NaN            NaN   \n...           ...              ...              ...            ...   \n4993        872.0          prochef              NaN        PROCHEF   \n4994        873.0          prochef              NaN        PROCHEF   \n4995        874.0          prochef              NaN        PROCHEF   \n4996        738.0     olivodeplata              NaN   OLIVODEPLATA   \n4997        882.0        undurraga           VIDRIO            NaN   \n\n     nombre_productos_clasificacion  \\\n0        LICORES, CERVEZAS Y  VINOS   \n3        LICORES, CERVEZAS Y  VINOS   \n5        LICORES, CERVEZAS Y  VINOS   \n17       LICORES, CERVEZAS Y  VINOS   \n21       LICORES, CERVEZAS Y  VINOS   \n...                             ...   \n4993                            NaN   \n4994                            NaN   \n4995                            NaN   \n4996                            NaN   \n4997     LICORES, CERVEZAS Y  VINOS   \n\n                                         nombre  gramos_envase     formato  \\\n0            Espumante Celebrite Extra Brut  cc          800.0         NaN   \n3        Pisco Alto del Carmen LT Alto Especial          800.0         NaN   \n5                            CERVEZA Corona  Cc          800.0  INDIVIDUAL   \n17                 Pisco Mistral Gran Nobel  Gl          800.0       700ML   \n21              Pisco Alto del Carmen Especial           800.0         DEL   \n...                                         ...            ...         ...   \n4993             ACEITE AEROSOL COCO PROCHEF GR            1.0       225GR   \n4994            ACEITE AEROSOL CANOL PROCHEF GR            1.0       400GR   \n4995              SPRAY OLIVA LIGHT. PROCHEF GR            1.0       225GR   \n4996  ACEITE OLIVA EXTRA VIRGEN OLIVODEPLATA LT            1.0         1LT   \n4997                undurraga brut  ml - vidrio            1.0         NaN   \n\n          unidad unidad_real  ...                                   texto  \\\n0            NaN         NaN  ...          espumante celebrite extra brut   \n3            NaN         NaN  ...         pisco alto carmen alto especial   \n5     INDIVIDUAL         NaN  ...                          cerveza corona   \n17            ML          ML  ...                pisco mistral gran nobel   \n21           DEL         NaN  ...              pisco alto carmen especial   \n...          ...         ...  ...                                     ...   \n4993          GR          GR  ...             aceite aerosol coco prochef   \n4994          GR          GR  ...            aceite aerosol canol prochef   \n4995          GR          GR  ...               spray oliva light prochef   \n4996          LT          LT  ...  aceite oliva extra virgen olivodeplata   \n4997         NaN         NaN  ...                   undurraga brut vidrio   \n\n     cluster300        label300           label categoria  \\\n0           114  Brut Espumante  Brut Espumante   VIDRIOS   \n3           130           Pisco           Pisco   VIDRIOS   \n5             6         Cerveza         Cerveza       NaN   \n17          130           Pisco           Pisco       NaN   \n21          130           Pisco           Pisco       NaN   \n...         ...             ...             ...       ...   \n4993         12          Aceite          Aceite       NaN   \n4994         12          Aceite          Aceite       NaN   \n4995         43             NaN           Spray       NaN   \n4996         12          Aceite          Aceite       NaN   \n4997         43             NaN          Vidrio   VIDRIOS   \n\n     nombre_productos_clasificacion_pred    categoria_pred  \\\n0             LICORES, CERVEZAS Y  VINOS           VIDRIOS   \n3             LICORES, CERVEZAS Y  VINOS           VIDRIOS   \n5             LICORES, CERVEZAS Y  VINOS   LATAS Y METALES   \n17            LICORES, CERVEZAS Y  VINOS           VIDRIOS   \n21            LICORES, CERVEZAS Y  VINOS           VIDRIOS   \n...                                  ...               ...   \n4993                            DESPENSA           VIDRIOS   \n4994                            DESPENSA           VIDRIOS   \n4995        CARNES, PESCADOS Y  FIAMBRES  PAPEL Y CARTONES   \n4996                            DESPENSA           VIDRIOS   \n4997          LICORES, CERVEZAS Y  VINOS           VIDRIOS   \n\n     nombre_reciclaje_pred unidad_real_pred  \\\n0                   VIDRIO               CC   \n3                   VIDRIO               ML   \n5                 ALUMINIO               CC   \n17                  VIDRIO               ML   \n21                  VIDRIO               ML   \n...                    ...              ...   \n4993                VIDRIO               GR   \n4994                VIDRIO               GR   \n4995                 PAPEL               GR   \n4996                VIDRIO               LT   \n4997                VIDRIO               ML   \n\n                                        name_up  \n0            ESPUMANTE CELEBRITE EXTRA BRUT  CC  \n3        PISCO ALTO DEL CARMEN LT ALTO ESPECIAL  \n5                            CERVEZA CORONA  CC  \n17                 PISCO MISTRAL GRAN NOBEL  GL  \n21              PISCO ALTO DEL CARMEN ESPECIAL   \n...                                         ...  \n4993             ACEITE AEROSOL COCO PROCHEF GR  \n4994            ACEITE AEROSOL CANOL PROCHEF GR  \n4995              SPRAY OLIVA LIGHT. PROCHEF GR  \n4996  ACEITE OLIVA EXTRA VIRGEN OLIVODEPLATA LT  \n4997                UNDURRAGA BRUT  ML - VIDRIO  \n\n[1559 rows x 21 columns]",
      "text/html": "<div>\n<style scoped>\n    .dataframe tbody tr th:only-of-type {\n        vertical-align: middle;\n    }\n\n    .dataframe tbody tr th {\n        vertical-align: top;\n    }\n\n    .dataframe thead th {\n        text-align: right;\n    }\n</style>\n<table border=\"1\" class=\"dataframe\">\n  <thead>\n    <tr style=\"text-align: right;\">\n      <th></th>\n      <th>id_producto</th>\n      <th>nombre_marca</th>\n      <th>nombre_reciclaje</th>\n      <th>nombre_empresa</th>\n      <th>nombre_productos_clasificacion</th>\n      <th>nombre</th>\n      <th>gramos_envase</th>\n      <th>formato</th>\n      <th>unidad</th>\n      <th>unidad_real</th>\n      <th>...</th>\n      <th>texto</th>\n      <th>cluster300</th>\n      <th>label300</th>\n      <th>label</th>\n      <th>categoria</th>\n      <th>nombre_productos_clasificacion_pred</th>\n      <th>categoria_pred</th>\n      <th>nombre_reciclaje_pred</th>\n      <th>unidad_real_pred</th>\n      <th>name_up</th>\n    </tr>\n  </thead>\n  <tbody>\n    <tr>\n      <th>0</th>\n      <td>44.0</td>\n      <td>celebrite</td>\n      <td>VIDRIO</td>\n      <td>CELEBRITE</td>\n      <td>LICORES, CERVEZAS Y  VINOS</td>\n      <td>Espumante Celebrite Extra Brut  cc</td>\n      <td>800.0</td>\n      <td>NaN</td>\n      <td>NaN</td>\n      <td>NaN</td>\n      <td>...</td>\n      <td>espumante celebrite extra brut</td>\n      <td>114</td>\n      <td>Brut Espumante</td>\n      <td>Brut Espumante</td>\n      <td>VIDRIOS</td>\n      <td>LICORES, CERVEZAS Y  VINOS</td>\n      <td>VIDRIOS</td>\n      <td>VIDRIO</td>\n      <td>CC</td>\n      <td>ESPUMANTE CELEBRITE EXTRA BRUT  CC</td>\n    </tr>\n    <tr>\n      <th>3</th>\n      <td>4839.0</td>\n      <td>alto del carmen</td>\n      <td>VIDRIO</td>\n      <td>NaN</td>\n      <td>LICORES, CERVEZAS Y  VINOS</td>\n      <td>Pisco Alto del Carmen LT Alto Especial</td>\n      <td>800.0</td>\n      <td>NaN</td>\n      <td>NaN</td>\n      <td>NaN</td>\n      <td>...</td>\n      <td>pisco alto carmen alto especial</td>\n      <td>130</td>\n      <td>Pisco</td>\n      <td>Pisco</td>\n      <td>VIDRIOS</td>\n      <td>LICORES, CERVEZAS Y  VINOS</td>\n      <td>VIDRIOS</td>\n      <td>VIDRIO</td>\n      <td>ML</td>\n      <td>PISCO ALTO DEL CARMEN LT ALTO ESPECIAL</td>\n    </tr>\n    <tr>\n      <th>5</th>\n      <td>1566.0</td>\n      <td>corona</td>\n      <td>NaN</td>\n      <td>CORONA</td>\n      <td>LICORES, CERVEZAS Y  VINOS</td>\n      <td>CERVEZA Corona  Cc</td>\n      <td>800.0</td>\n      <td>INDIVIDUAL</td>\n      <td>INDIVIDUAL</td>\n      <td>NaN</td>\n      <td>...</td>\n      <td>cerveza corona</td>\n      <td>6</td>\n      <td>Cerveza</td>\n      <td>Cerveza</td>\n      <td>NaN</td>\n      <td>LICORES, CERVEZAS Y  VINOS</td>\n      <td>LATAS Y METALES</td>\n      <td>ALUMINIO</td>\n      <td>CC</td>\n      <td>CERVEZA CORONA  CC</td>\n    </tr>\n    <tr>\n      <th>17</th>\n      <td>2706.0</td>\n      <td>mistral</td>\n      <td>NaN</td>\n      <td>CCU</td>\n      <td>LICORES, CERVEZAS Y  VINOS</td>\n      <td>Pisco Mistral Gran Nobel  Gl</td>\n      <td>800.0</td>\n      <td>700ML</td>\n      <td>ML</td>\n      <td>ML</td>\n      <td>...</td>\n      <td>pisco mistral gran nobel</td>\n      <td>130</td>\n      <td>Pisco</td>\n      <td>Pisco</td>\n      <td>NaN</td>\n      <td>LICORES, CERVEZAS Y  VINOS</td>\n      <td>VIDRIOS</td>\n      <td>VIDRIO</td>\n      <td>ML</td>\n      <td>PISCO MISTRAL GRAN NOBEL  GL</td>\n    </tr>\n    <tr>\n      <th>21</th>\n      <td>2721.0</td>\n      <td>alto</td>\n      <td>NaN</td>\n      <td>NaN</td>\n      <td>LICORES, CERVEZAS Y  VINOS</td>\n      <td>Pisco Alto del Carmen Especial</td>\n      <td>800.0</td>\n      <td>DEL</td>\n      <td>DEL</td>\n      <td>NaN</td>\n      <td>...</td>\n      <td>pisco alto carmen especial</td>\n      <td>130</td>\n      <td>Pisco</td>\n      <td>Pisco</td>\n      <td>NaN</td>\n      <td>LICORES, CERVEZAS Y  VINOS</td>\n      <td>VIDRIOS</td>\n      <td>VIDRIO</td>\n      <td>ML</td>\n      <td>PISCO ALTO DEL CARMEN ESPECIAL</td>\n    </tr>\n    <tr>\n      <th>...</th>\n      <td>...</td>\n      <td>...</td>\n      <td>...</td>\n      <td>...</td>\n      <td>...</td>\n      <td>...</td>\n      <td>...</td>\n      <td>...</td>\n      <td>...</td>\n      <td>...</td>\n      <td>...</td>\n      <td>...</td>\n      <td>...</td>\n      <td>...</td>\n      <td>...</td>\n      <td>...</td>\n      <td>...</td>\n      <td>...</td>\n      <td>...</td>\n      <td>...</td>\n      <td>...</td>\n    </tr>\n    <tr>\n      <th>4993</th>\n      <td>872.0</td>\n      <td>prochef</td>\n      <td>NaN</td>\n      <td>PROCHEF</td>\n      <td>NaN</td>\n      <td>ACEITE AEROSOL COCO PROCHEF GR</td>\n      <td>1.0</td>\n      <td>225GR</td>\n      <td>GR</td>\n      <td>GR</td>\n      <td>...</td>\n      <td>aceite aerosol coco prochef</td>\n      <td>12</td>\n      <td>Aceite</td>\n      <td>Aceite</td>\n      <td>NaN</td>\n      <td>DESPENSA</td>\n      <td>VIDRIOS</td>\n      <td>VIDRIO</td>\n      <td>GR</td>\n      <td>ACEITE AEROSOL COCO PROCHEF GR</td>\n    </tr>\n    <tr>\n      <th>4994</th>\n      <td>873.0</td>\n      <td>prochef</td>\n      <td>NaN</td>\n      <td>PROCHEF</td>\n      <td>NaN</td>\n      <td>ACEITE AEROSOL CANOL PROCHEF GR</td>\n      <td>1.0</td>\n      <td>400GR</td>\n      <td>GR</td>\n      <td>GR</td>\n      <td>...</td>\n      <td>aceite aerosol canol prochef</td>\n      <td>12</td>\n      <td>Aceite</td>\n      <td>Aceite</td>\n      <td>NaN</td>\n      <td>DESPENSA</td>\n      <td>VIDRIOS</td>\n      <td>VIDRIO</td>\n      <td>GR</td>\n      <td>ACEITE AEROSOL CANOL PROCHEF GR</td>\n    </tr>\n    <tr>\n      <th>4995</th>\n      <td>874.0</td>\n      <td>prochef</td>\n      <td>NaN</td>\n      <td>PROCHEF</td>\n      <td>NaN</td>\n      <td>SPRAY OLIVA LIGHT. PROCHEF GR</td>\n      <td>1.0</td>\n      <td>225GR</td>\n      <td>GR</td>\n      <td>GR</td>\n      <td>...</td>\n      <td>spray oliva light prochef</td>\n      <td>43</td>\n      <td>NaN</td>\n      <td>Spray</td>\n      <td>NaN</td>\n      <td>CARNES, PESCADOS Y  FIAMBRES</td>\n      <td>PAPEL Y CARTONES</td>\n      <td>PAPEL</td>\n      <td>GR</td>\n      <td>SPRAY OLIVA LIGHT. PROCHEF GR</td>\n    </tr>\n    <tr>\n      <th>4996</th>\n      <td>738.0</td>\n      <td>olivodeplata</td>\n      <td>NaN</td>\n      <td>OLIVODEPLATA</td>\n      <td>NaN</td>\n      <td>ACEITE OLIVA EXTRA VIRGEN OLIVODEPLATA LT</td>\n      <td>1.0</td>\n      <td>1LT</td>\n      <td>LT</td>\n      <td>LT</td>\n      <td>...</td>\n      <td>aceite oliva extra virgen olivodeplata</td>\n      <td>12</td>\n      <td>Aceite</td>\n      <td>Aceite</td>\n      <td>NaN</td>\n      <td>DESPENSA</td>\n      <td>VIDRIOS</td>\n      <td>VIDRIO</td>\n      <td>LT</td>\n      <td>ACEITE OLIVA EXTRA VIRGEN OLIVODEPLATA LT</td>\n    </tr>\n    <tr>\n      <th>4997</th>\n      <td>882.0</td>\n      <td>undurraga</td>\n      <td>VIDRIO</td>\n      <td>NaN</td>\n      <td>LICORES, CERVEZAS Y  VINOS</td>\n      <td>undurraga brut  ml - vidrio</td>\n      <td>1.0</td>\n      <td>NaN</td>\n      <td>NaN</td>\n      <td>NaN</td>\n      <td>...</td>\n      <td>undurraga brut vidrio</td>\n      <td>43</td>\n      <td>NaN</td>\n      <td>Vidrio</td>\n      <td>VIDRIOS</td>\n      <td>LICORES, CERVEZAS Y  VINOS</td>\n      <td>VIDRIOS</td>\n      <td>VIDRIO</td>\n      <td>ML</td>\n      <td>UNDURRAGA BRUT  ML - VIDRIO</td>\n    </tr>\n  </tbody>\n</table>\n<p>1559 rows × 21 columns</p>\n</div>"
     },
     "execution_count": 15,
     "metadata": {},
     "output_type": "execute_result"
    }
   ],
   "source": [
    "df[df.name_up.str.contains('|'.join(unidades))]"
   ],
   "metadata": {
    "collapsed": false,
    "pycharm": {
     "name": "#%%\n"
    }
   }
  },
  {
   "cell_type": "code",
   "execution_count": 18,
   "outputs": [],
   "source": [
    "df = pd.read_excel('Productos con Data Extra.xlsx')"
   ],
   "metadata": {
    "collapsed": false,
    "pycharm": {
     "name": "#%%\n"
    }
   }
  },
  {
   "cell_type": "code",
   "execution_count": 19,
   "outputs": [
    {
     "data": {
      "text/plain": "      id_producto  id_marca     nombre_marca  id_empresa nombre_empresa  \\\n0            44.0      40.0        Celebrite         NaN      CELEBRITE   \n1            55.0      48.0          Viñamar         NaN            CCU   \n2           137.0      48.0          Viñamar         NaN            CCU   \n3          4839.0     719.0  Alto del carmen         NaN            NaN   \n4            14.0      13.0          Mistral         NaN            CCU   \n...           ...       ...              ...         ...            ...   \n4993        872.0     182.0          Prochef         NaN        PROCHEF   \n4994        873.0     182.0          Prochef         NaN        PROCHEF   \n4995        874.0     182.0          Prochef         NaN        PROCHEF   \n4996        738.0     160.0     Olivodeplata         NaN   OLIVODEPLATA   \n4997        882.0     408.0        Undurraga         NaN            NaN   \n\n      id_reciclaje nombre_reciclaje  id_producto_clasificacion  \\\n0             24.0           VIDRIO                       21.0   \n1             24.0           VIDRIO                       21.0   \n2             24.0           VIDRIO                       21.0   \n3             24.0           VIDRIO                       21.0   \n4             24.0           VIDRIO                       21.0   \n...            ...              ...                        ...   \n4993          37.0             OTRO                       14.0   \n4994          37.0             OTRO                       14.0   \n4995          37.0             OTRO                       14.0   \n4996          37.0             OTRO                       14.0   \n4997          24.0           VIDRIO                       21.0   \n\n     nombre_productos_clasificacion  \\\n0       LICORES, CERVEZA S Y  VINOS   \n1       LICORES, CERVEZA S Y  VINOS   \n2       LICORES, CERVEZA S Y  VINOS   \n3       LICORES, CERVEZA S Y  VINOS   \n4       LICORES, CERVEZA S Y  VINOS   \n...                             ...   \n4993               SIN DEPARTAMENTO   \n4994               SIN DEPARTAMENTO   \n4995               SIN DEPARTAMENTO   \n4996               SIN DEPARTAMENTO   \n4997    LICORES, CERVEZA S Y  VINOS   \n\n                                           nombre  ... estado  \\\n0           Espumante Celebrite Extra Brut 750 cc  ...    1.0   \n1                             Viña Mar Extra Brut  ...    1.0   \n2                       VINO ESPUMANTE EXTRA BRUT  ...    1.0   \n3       Pisco Alto del Carmen, 1LT, Alto Especial  ...    1.0   \n4     PISCO 35° ESPECIAL AÑEJADO EN ROBLE BOTELLA  ...    1.0   \n...                                           ...  ...    ...   \n4993            ACEITE AEROSOL COCO PROCHEF 225GR  ...    1.0   \n4994           ACEITE AEROSOL CANOL PROCHEF 400GR  ...    1.0   \n4995             SPRAY OLIVA LIGHT. PROCHEF 225GR  ...    1.0   \n4996   ACEITE OLIVA EXTRA VIRGEN OLIVODEPLATA 1LT  ...    1.0   \n4997             undurraga brut 187,5 ml - vidrio  ...    1.0   \n\n              created_at          updated_at  subclasificacion  is_new  \\\n0    2021-04-25 08:54:07 2021-10-30 15:03:10               NaN     0.0   \n1    2021-05-03 19:07:49 2021-12-16 21:35:10               NaN     0.0   \n2    2021-06-17 10:13:25 2021-09-08 00:38:36            VIDRIO     0.0   \n3    2021-09-24 01:12:18 2022-01-20 15:15:24               NaN     1.0   \n4    2021-03-21 21:37:41 2021-09-08 00:38:36           VIDRIOS     0.0   \n...                  ...                 ...               ...     ...   \n4993 2021-06-17 10:13:33 2021-09-08 00:38:47               NaN     0.0   \n4994 2021-06-17 10:13:33 2021-09-08 00:38:48               NaN     0.0   \n4995 2021-06-17 10:13:33 2021-09-08 00:38:48               NaN     0.0   \n4996 2021-06-17 10:13:32 2021-09-08 00:38:45               NaN     0.0   \n4997 2021-08-16 22:06:14 2022-03-01 08:16:06               NaN     0.0   \n\n      is_validado is_completo promedio origen informacion  \n0             1.0         0.0      NaN    NaN         NaN  \n1             1.0         1.0      NaN    NaN         NaN  \n2             1.0         0.0      NaN    NaN         NaN  \n3             1.0         0.0      NaN    NaN         NaN  \n4             1.0         0.0      NaN    NaN         NaN  \n...           ...         ...      ...    ...         ...  \n4993          1.0         0.0      NaN    NaN         NaN  \n4994          1.0         0.0      NaN    NaN         NaN  \n4995          1.0         0.0      NaN    NaN         NaN  \n4996          1.0         0.0      NaN    NaN         NaN  \n4997          1.0         0.0      NaN    NaN         NaN  \n\n[4998 rows x 42 columns]",
      "text/html": "<div>\n<style scoped>\n    .dataframe tbody tr th:only-of-type {\n        vertical-align: middle;\n    }\n\n    .dataframe tbody tr th {\n        vertical-align: top;\n    }\n\n    .dataframe thead th {\n        text-align: right;\n    }\n</style>\n<table border=\"1\" class=\"dataframe\">\n  <thead>\n    <tr style=\"text-align: right;\">\n      <th></th>\n      <th>id_producto</th>\n      <th>id_marca</th>\n      <th>nombre_marca</th>\n      <th>id_empresa</th>\n      <th>nombre_empresa</th>\n      <th>id_reciclaje</th>\n      <th>nombre_reciclaje</th>\n      <th>id_producto_clasificacion</th>\n      <th>nombre_productos_clasificacion</th>\n      <th>nombre</th>\n      <th>...</th>\n      <th>estado</th>\n      <th>created_at</th>\n      <th>updated_at</th>\n      <th>subclasificacion</th>\n      <th>is_new</th>\n      <th>is_validado</th>\n      <th>is_completo</th>\n      <th>promedio</th>\n      <th>origen</th>\n      <th>informacion</th>\n    </tr>\n  </thead>\n  <tbody>\n    <tr>\n      <th>0</th>\n      <td>44.0</td>\n      <td>40.0</td>\n      <td>Celebrite</td>\n      <td>NaN</td>\n      <td>CELEBRITE</td>\n      <td>24.0</td>\n      <td>VIDRIO</td>\n      <td>21.0</td>\n      <td>LICORES, CERVEZA S Y  VINOS</td>\n      <td>Espumante Celebrite Extra Brut 750 cc</td>\n      <td>...</td>\n      <td>1.0</td>\n      <td>2021-04-25 08:54:07</td>\n      <td>2021-10-30 15:03:10</td>\n      <td>NaN</td>\n      <td>0.0</td>\n      <td>1.0</td>\n      <td>0.0</td>\n      <td>NaN</td>\n      <td>NaN</td>\n      <td>NaN</td>\n    </tr>\n    <tr>\n      <th>1</th>\n      <td>55.0</td>\n      <td>48.0</td>\n      <td>Viñamar</td>\n      <td>NaN</td>\n      <td>CCU</td>\n      <td>24.0</td>\n      <td>VIDRIO</td>\n      <td>21.0</td>\n      <td>LICORES, CERVEZA S Y  VINOS</td>\n      <td>Viña Mar Extra Brut</td>\n      <td>...</td>\n      <td>1.0</td>\n      <td>2021-05-03 19:07:49</td>\n      <td>2021-12-16 21:35:10</td>\n      <td>NaN</td>\n      <td>0.0</td>\n      <td>1.0</td>\n      <td>1.0</td>\n      <td>NaN</td>\n      <td>NaN</td>\n      <td>NaN</td>\n    </tr>\n    <tr>\n      <th>2</th>\n      <td>137.0</td>\n      <td>48.0</td>\n      <td>Viñamar</td>\n      <td>NaN</td>\n      <td>CCU</td>\n      <td>24.0</td>\n      <td>VIDRIO</td>\n      <td>21.0</td>\n      <td>LICORES, CERVEZA S Y  VINOS</td>\n      <td>VINO ESPUMANTE EXTRA BRUT</td>\n      <td>...</td>\n      <td>1.0</td>\n      <td>2021-06-17 10:13:25</td>\n      <td>2021-09-08 00:38:36</td>\n      <td>VIDRIO</td>\n      <td>0.0</td>\n      <td>1.0</td>\n      <td>0.0</td>\n      <td>NaN</td>\n      <td>NaN</td>\n      <td>NaN</td>\n    </tr>\n    <tr>\n      <th>3</th>\n      <td>4839.0</td>\n      <td>719.0</td>\n      <td>Alto del carmen</td>\n      <td>NaN</td>\n      <td>NaN</td>\n      <td>24.0</td>\n      <td>VIDRIO</td>\n      <td>21.0</td>\n      <td>LICORES, CERVEZA S Y  VINOS</td>\n      <td>Pisco Alto del Carmen, 1LT, Alto Especial</td>\n      <td>...</td>\n      <td>1.0</td>\n      <td>2021-09-24 01:12:18</td>\n      <td>2022-01-20 15:15:24</td>\n      <td>NaN</td>\n      <td>1.0</td>\n      <td>1.0</td>\n      <td>0.0</td>\n      <td>NaN</td>\n      <td>NaN</td>\n      <td>NaN</td>\n    </tr>\n    <tr>\n      <th>4</th>\n      <td>14.0</td>\n      <td>13.0</td>\n      <td>Mistral</td>\n      <td>NaN</td>\n      <td>CCU</td>\n      <td>24.0</td>\n      <td>VIDRIO</td>\n      <td>21.0</td>\n      <td>LICORES, CERVEZA S Y  VINOS</td>\n      <td>PISCO 35° ESPECIAL AÑEJADO EN ROBLE BOTELLA</td>\n      <td>...</td>\n      <td>1.0</td>\n      <td>2021-03-21 21:37:41</td>\n      <td>2021-09-08 00:38:36</td>\n      <td>VIDRIOS</td>\n      <td>0.0</td>\n      <td>1.0</td>\n      <td>0.0</td>\n      <td>NaN</td>\n      <td>NaN</td>\n      <td>NaN</td>\n    </tr>\n    <tr>\n      <th>...</th>\n      <td>...</td>\n      <td>...</td>\n      <td>...</td>\n      <td>...</td>\n      <td>...</td>\n      <td>...</td>\n      <td>...</td>\n      <td>...</td>\n      <td>...</td>\n      <td>...</td>\n      <td>...</td>\n      <td>...</td>\n      <td>...</td>\n      <td>...</td>\n      <td>...</td>\n      <td>...</td>\n      <td>...</td>\n      <td>...</td>\n      <td>...</td>\n      <td>...</td>\n      <td>...</td>\n    </tr>\n    <tr>\n      <th>4993</th>\n      <td>872.0</td>\n      <td>182.0</td>\n      <td>Prochef</td>\n      <td>NaN</td>\n      <td>PROCHEF</td>\n      <td>37.0</td>\n      <td>OTRO</td>\n      <td>14.0</td>\n      <td>SIN DEPARTAMENTO</td>\n      <td>ACEITE AEROSOL COCO PROCHEF 225GR</td>\n      <td>...</td>\n      <td>1.0</td>\n      <td>2021-06-17 10:13:33</td>\n      <td>2021-09-08 00:38:47</td>\n      <td>NaN</td>\n      <td>0.0</td>\n      <td>1.0</td>\n      <td>0.0</td>\n      <td>NaN</td>\n      <td>NaN</td>\n      <td>NaN</td>\n    </tr>\n    <tr>\n      <th>4994</th>\n      <td>873.0</td>\n      <td>182.0</td>\n      <td>Prochef</td>\n      <td>NaN</td>\n      <td>PROCHEF</td>\n      <td>37.0</td>\n      <td>OTRO</td>\n      <td>14.0</td>\n      <td>SIN DEPARTAMENTO</td>\n      <td>ACEITE AEROSOL CANOL PROCHEF 400GR</td>\n      <td>...</td>\n      <td>1.0</td>\n      <td>2021-06-17 10:13:33</td>\n      <td>2021-09-08 00:38:48</td>\n      <td>NaN</td>\n      <td>0.0</td>\n      <td>1.0</td>\n      <td>0.0</td>\n      <td>NaN</td>\n      <td>NaN</td>\n      <td>NaN</td>\n    </tr>\n    <tr>\n      <th>4995</th>\n      <td>874.0</td>\n      <td>182.0</td>\n      <td>Prochef</td>\n      <td>NaN</td>\n      <td>PROCHEF</td>\n      <td>37.0</td>\n      <td>OTRO</td>\n      <td>14.0</td>\n      <td>SIN DEPARTAMENTO</td>\n      <td>SPRAY OLIVA LIGHT. PROCHEF 225GR</td>\n      <td>...</td>\n      <td>1.0</td>\n      <td>2021-06-17 10:13:33</td>\n      <td>2021-09-08 00:38:48</td>\n      <td>NaN</td>\n      <td>0.0</td>\n      <td>1.0</td>\n      <td>0.0</td>\n      <td>NaN</td>\n      <td>NaN</td>\n      <td>NaN</td>\n    </tr>\n    <tr>\n      <th>4996</th>\n      <td>738.0</td>\n      <td>160.0</td>\n      <td>Olivodeplata</td>\n      <td>NaN</td>\n      <td>OLIVODEPLATA</td>\n      <td>37.0</td>\n      <td>OTRO</td>\n      <td>14.0</td>\n      <td>SIN DEPARTAMENTO</td>\n      <td>ACEITE OLIVA EXTRA VIRGEN OLIVODEPLATA 1LT</td>\n      <td>...</td>\n      <td>1.0</td>\n      <td>2021-06-17 10:13:32</td>\n      <td>2021-09-08 00:38:45</td>\n      <td>NaN</td>\n      <td>0.0</td>\n      <td>1.0</td>\n      <td>0.0</td>\n      <td>NaN</td>\n      <td>NaN</td>\n      <td>NaN</td>\n    </tr>\n    <tr>\n      <th>4997</th>\n      <td>882.0</td>\n      <td>408.0</td>\n      <td>Undurraga</td>\n      <td>NaN</td>\n      <td>NaN</td>\n      <td>24.0</td>\n      <td>VIDRIO</td>\n      <td>21.0</td>\n      <td>LICORES, CERVEZA S Y  VINOS</td>\n      <td>undurraga brut 187,5 ml - vidrio</td>\n      <td>...</td>\n      <td>1.0</td>\n      <td>2021-08-16 22:06:14</td>\n      <td>2022-03-01 08:16:06</td>\n      <td>NaN</td>\n      <td>0.0</td>\n      <td>1.0</td>\n      <td>0.0</td>\n      <td>NaN</td>\n      <td>NaN</td>\n      <td>NaN</td>\n    </tr>\n  </tbody>\n</table>\n<p>4998 rows × 42 columns</p>\n</div>"
     },
     "execution_count": 19,
     "metadata": {},
     "output_type": "execute_result"
    }
   ],
   "source": [
    "df"
   ],
   "metadata": {
    "collapsed": false,
    "pycharm": {
     "name": "#%%\n"
    }
   }
  },
  {
   "cell_type": "code",
   "execution_count": null,
   "outputs": [],
   "source": [],
   "metadata": {
    "collapsed": false,
    "pycharm": {
     "name": "#%%\n"
    }
   }
  }
 ],
 "metadata": {
  "kernelspec": {
   "display_name": "Python 3",
   "language": "python",
   "name": "python3"
  },
  "language_info": {
   "codemirror_mode": {
    "name": "ipython",
    "version": 2
   },
   "file_extension": ".py",
   "mimetype": "text/x-python",
   "name": "python",
   "nbconvert_exporter": "python",
   "pygments_lexer": "ipython2",
   "version": "2.7.6"
  }
 },
 "nbformat": 4,
 "nbformat_minor": 0
}